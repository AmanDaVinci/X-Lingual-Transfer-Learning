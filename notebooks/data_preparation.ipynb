{
 "cells": [
  {
   "cell_type": "markdown",
   "metadata": {},
   "source": [
    "# Data Preparation\n",
    "---"
   ]
  },
  {
   "cell_type": "markdown",
   "metadata": {},
   "source": [
    "## Import Libraries"
   ]
  },
  {
   "cell_type": "code",
   "execution_count": 1,
   "metadata": {},
   "outputs": [],
   "source": [
    "import csv\n",
    "import pandas as pd\n",
    "from pathlib import Path"
   ]
  },
  {
   "cell_type": "markdown",
   "metadata": {},
   "source": [
    "## Load Data"
   ]
  },
  {
   "cell_type": "code",
   "execution_count": 2,
   "metadata": {},
   "outputs": [],
   "source": [
    "data_dir = Path('../data/')\n",
    "valid_file = Path('valid.txt')\n",
    "xnli_file = Path('XNLI-1.0/xnli.dev.tsv')\n",
    "xnli_file = Path('XNLI-1.0/xnli.dev.tsv')"
   ]
  },
  {
   "cell_type": "code",
   "execution_count": 13,
   "metadata": {},
   "outputs": [],
   "source": [
    "df = pd.read_csv(data_dir/xnli_file, sep='\\t', quoting=3)"
   ]
  },
  {
   "cell_type": "code",
   "execution_count": 14,
   "metadata": {},
   "outputs": [
    {
     "data": {
      "text/html": [
       "<div>\n",
       "<style scoped>\n",
       "    .dataframe tbody tr th:only-of-type {\n",
       "        vertical-align: middle;\n",
       "    }\n",
       "\n",
       "    .dataframe tbody tr th {\n",
       "        vertical-align: top;\n",
       "    }\n",
       "\n",
       "    .dataframe thead th {\n",
       "        text-align: right;\n",
       "    }\n",
       "</style>\n",
       "<table border=\"1\" class=\"dataframe\">\n",
       "  <thead>\n",
       "    <tr style=\"text-align: right;\">\n",
       "      <th></th>\n",
       "      <th>language</th>\n",
       "      <th>gold_label</th>\n",
       "      <th>sentence1_binary_parse</th>\n",
       "      <th>sentence2_binary_parse</th>\n",
       "      <th>sentence1_parse</th>\n",
       "      <th>sentence2_parse</th>\n",
       "      <th>sentence1</th>\n",
       "      <th>sentence2</th>\n",
       "      <th>promptID</th>\n",
       "      <th>pairID</th>\n",
       "      <th>genre</th>\n",
       "      <th>label1</th>\n",
       "      <th>label2</th>\n",
       "      <th>label3</th>\n",
       "      <th>label4</th>\n",
       "      <th>label5</th>\n",
       "      <th>sentence1_tokenized</th>\n",
       "      <th>sentence2_tokenized</th>\n",
       "      <th>match</th>\n",
       "    </tr>\n",
       "  </thead>\n",
       "  <tbody>\n",
       "    <tr>\n",
       "      <th>0</th>\n",
       "      <td>ar</td>\n",
       "      <td>neutral</td>\n",
       "      <td>NaN</td>\n",
       "      <td>NaN</td>\n",
       "      <td>NaN</td>\n",
       "      <td>NaN</td>\n",
       "      <td>وقال، ماما، لقد عدت للمنزل.</td>\n",
       "      <td>اتصل بأمه حالما أوصلته حافلة المدرسية.</td>\n",
       "      <td>1</td>\n",
       "      <td>1</td>\n",
       "      <td>facetoface</td>\n",
       "      <td>neutral</td>\n",
       "      <td>contradiction</td>\n",
       "      <td>neutral</td>\n",
       "      <td>neutral</td>\n",
       "      <td>neutral</td>\n",
       "      <td>وقال ، ماما ، لقد عدت للمنزل .</td>\n",
       "      <td>اتصل بأمه حالما أوصلته حافلة المدرسية .</td>\n",
       "      <td>True</td>\n",
       "    </tr>\n",
       "    <tr>\n",
       "      <th>1</th>\n",
       "      <td>ar</td>\n",
       "      <td>contradiction</td>\n",
       "      <td>NaN</td>\n",
       "      <td>NaN</td>\n",
       "      <td>NaN</td>\n",
       "      <td>NaN</td>\n",
       "      <td>وقال، ماما، لقد عدت للمنزل.</td>\n",
       "      <td>لم ينطق ببنت شفة.</td>\n",
       "      <td>1</td>\n",
       "      <td>2</td>\n",
       "      <td>facetoface</td>\n",
       "      <td>contradiction</td>\n",
       "      <td>contradiction</td>\n",
       "      <td>contradiction</td>\n",
       "      <td>contradiction</td>\n",
       "      <td>contradiction</td>\n",
       "      <td>وقال ، ماما ، لقد عدت للمنزل .</td>\n",
       "      <td>لم ينطق ببنت شفة .</td>\n",
       "      <td>True</td>\n",
       "    </tr>\n",
       "    <tr>\n",
       "      <th>2</th>\n",
       "      <td>ar</td>\n",
       "      <td>entailment</td>\n",
       "      <td>NaN</td>\n",
       "      <td>NaN</td>\n",
       "      <td>NaN</td>\n",
       "      <td>NaN</td>\n",
       "      <td>وقال، ماما، لقد عدت للمنزل.</td>\n",
       "      <td>أخبر أمه أنه قد عاد للمنزل.</td>\n",
       "      <td>1</td>\n",
       "      <td>3</td>\n",
       "      <td>facetoface</td>\n",
       "      <td>entailment</td>\n",
       "      <td>entailment</td>\n",
       "      <td>neutral</td>\n",
       "      <td>entailment</td>\n",
       "      <td>entailment</td>\n",
       "      <td>وقال ، ماما ، لقد عدت للمنزل .</td>\n",
       "      <td>أخبر أمه أنه قد عاد للمنزل .</td>\n",
       "      <td>True</td>\n",
       "    </tr>\n",
       "    <tr>\n",
       "      <th>3</th>\n",
       "      <td>ar</td>\n",
       "      <td>neutral</td>\n",
       "      <td>NaN</td>\n",
       "      <td>NaN</td>\n",
       "      <td>NaN</td>\n",
       "      <td>NaN</td>\n",
       "      <td>لم أعرف من أجل ماذا أنا ذاهب أو أي شىْ ، لذلك ...</td>\n",
       "      <td>لم أذهب إلى واشنطن من قبل، لذا عندما تم تكليفي...</td>\n",
       "      <td>6</td>\n",
       "      <td>16</td>\n",
       "      <td>facetoface</td>\n",
       "      <td>neutral</td>\n",
       "      <td>neutral</td>\n",
       "      <td>neutral</td>\n",
       "      <td>neutral</td>\n",
       "      <td>neutral</td>\n",
       "      <td>لم أعرف من أجل ماذا أنا ذاهب أو أي شىْ ، لذلك ...</td>\n",
       "      <td>لم أذهب إلى واشنطن من قبل ، لذا عندما تم تكليف...</td>\n",
       "      <td>True</td>\n",
       "    </tr>\n",
       "    <tr>\n",
       "      <th>4</th>\n",
       "      <td>ar</td>\n",
       "      <td>contradiction</td>\n",
       "      <td>NaN</td>\n",
       "      <td>NaN</td>\n",
       "      <td>NaN</td>\n",
       "      <td>NaN</td>\n",
       "      <td>لم أعرف من أجل ماذا أنا ذاهب أو أي شىْ ، لذلك ...</td>\n",
       "      <td>لقد عرفت بالضبط ما الذي احتجت أن أفعله عندما م...</td>\n",
       "      <td>6</td>\n",
       "      <td>17</td>\n",
       "      <td>facetoface</td>\n",
       "      <td>contradiction</td>\n",
       "      <td>contradiction</td>\n",
       "      <td>contradiction</td>\n",
       "      <td>contradiction</td>\n",
       "      <td>contradiction</td>\n",
       "      <td>لم أعرف من أجل ماذا أنا ذاهب أو أي شىْ ، لذلك ...</td>\n",
       "      <td>لقد عرفت بالضبط ما الذي احتجت أن أفعله عندما م...</td>\n",
       "      <td>True</td>\n",
       "    </tr>\n",
       "  </tbody>\n",
       "</table>\n",
       "</div>"
      ],
      "text/plain": [
       "  language     gold_label  sentence1_binary_parse  sentence2_binary_parse  \\\n",
       "0       ar        neutral                     NaN                     NaN   \n",
       "1       ar  contradiction                     NaN                     NaN   \n",
       "2       ar     entailment                     NaN                     NaN   \n",
       "3       ar        neutral                     NaN                     NaN   \n",
       "4       ar  contradiction                     NaN                     NaN   \n",
       "\n",
       "   sentence1_parse  sentence2_parse  \\\n",
       "0              NaN              NaN   \n",
       "1              NaN              NaN   \n",
       "2              NaN              NaN   \n",
       "3              NaN              NaN   \n",
       "4              NaN              NaN   \n",
       "\n",
       "                                           sentence1  \\\n",
       "0                        وقال، ماما، لقد عدت للمنزل.   \n",
       "1                        وقال، ماما، لقد عدت للمنزل.   \n",
       "2                        وقال، ماما، لقد عدت للمنزل.   \n",
       "3  لم أعرف من أجل ماذا أنا ذاهب أو أي شىْ ، لذلك ...   \n",
       "4  لم أعرف من أجل ماذا أنا ذاهب أو أي شىْ ، لذلك ...   \n",
       "\n",
       "                                           sentence2  promptID  pairID  \\\n",
       "0             اتصل بأمه حالما أوصلته حافلة المدرسية.         1       1   \n",
       "1                                  لم ينطق ببنت شفة.         1       2   \n",
       "2                        أخبر أمه أنه قد عاد للمنزل.         1       3   \n",
       "3  لم أذهب إلى واشنطن من قبل، لذا عندما تم تكليفي...         6      16   \n",
       "4  لقد عرفت بالضبط ما الذي احتجت أن أفعله عندما م...         6      17   \n",
       "\n",
       "        genre         label1         label2         label3         label4  \\\n",
       "0  facetoface        neutral  contradiction        neutral        neutral   \n",
       "1  facetoface  contradiction  contradiction  contradiction  contradiction   \n",
       "2  facetoface     entailment     entailment        neutral     entailment   \n",
       "3  facetoface        neutral        neutral        neutral        neutral   \n",
       "4  facetoface  contradiction  contradiction  contradiction  contradiction   \n",
       "\n",
       "          label5                                sentence1_tokenized  \\\n",
       "0        neutral                     وقال ، ماما ، لقد عدت للمنزل .   \n",
       "1  contradiction                     وقال ، ماما ، لقد عدت للمنزل .   \n",
       "2     entailment                     وقال ، ماما ، لقد عدت للمنزل .   \n",
       "3        neutral  لم أعرف من أجل ماذا أنا ذاهب أو أي شىْ ، لذلك ...   \n",
       "4  contradiction  لم أعرف من أجل ماذا أنا ذاهب أو أي شىْ ، لذلك ...   \n",
       "\n",
       "                                 sentence2_tokenized  match  \n",
       "0            اتصل بأمه حالما أوصلته حافلة المدرسية .   True  \n",
       "1                                 لم ينطق ببنت شفة .   True  \n",
       "2                       أخبر أمه أنه قد عاد للمنزل .   True  \n",
       "3  لم أذهب إلى واشنطن من قبل ، لذا عندما تم تكليف...   True  \n",
       "4  لقد عرفت بالضبط ما الذي احتجت أن أفعله عندما م...   True  "
      ]
     },
     "execution_count": 14,
     "metadata": {},
     "output_type": "execute_result"
    }
   ],
   "source": [
    "df.head()"
   ]
  },
  {
   "cell_type": "code",
   "execution_count": 15,
   "metadata": {},
   "outputs": [
    {
     "data": {
      "text/plain": [
       "(37350, 19)"
      ]
     },
     "execution_count": 15,
     "metadata": {},
     "output_type": "execute_result"
    }
   ],
   "source": [
    "df.shape"
   ]
  },
  {
   "cell_type": "code",
   "execution_count": 16,
   "metadata": {},
   "outputs": [
    {
     "data": {
      "text/plain": [
       "array(['ar', 'bg', 'de', 'el', 'en', 'es', 'fr', 'hi', 'ru', 'sw', 'th',\n",
       "       'tr', 'ur', 'vi', 'zh'], dtype=object)"
      ]
     },
     "execution_count": 16,
     "metadata": {},
     "output_type": "execute_result"
    }
   ],
   "source": [
    "df['language'].unique()"
   ]
  },
  {
   "cell_type": "code",
   "execution_count": 8,
   "metadata": {},
   "outputs": [
    {
     "data": {
      "text/html": [
       "<div>\n",
       "<style scoped>\n",
       "    .dataframe tbody tr th:only-of-type {\n",
       "        vertical-align: middle;\n",
       "    }\n",
       "\n",
       "    .dataframe tbody tr th {\n",
       "        vertical-align: top;\n",
       "    }\n",
       "\n",
       "    .dataframe thead th {\n",
       "        text-align: right;\n",
       "    }\n",
       "</style>\n",
       "<table border=\"1\" class=\"dataframe\">\n",
       "  <thead>\n",
       "    <tr style=\"text-align: right;\">\n",
       "      <th></th>\n",
       "      <th>language</th>\n",
       "      <th>gold_label</th>\n",
       "      <th>sentence1_binary_parse</th>\n",
       "      <th>sentence2_binary_parse</th>\n",
       "      <th>sentence1_parse</th>\n",
       "      <th>sentence2_parse</th>\n",
       "      <th>sentence1</th>\n",
       "      <th>sentence2</th>\n",
       "      <th>promptID</th>\n",
       "      <th>pairID</th>\n",
       "      <th>genre</th>\n",
       "      <th>label1</th>\n",
       "      <th>label2</th>\n",
       "      <th>label3</th>\n",
       "      <th>label4</th>\n",
       "      <th>label5</th>\n",
       "      <th>sentence1_tokenized</th>\n",
       "      <th>sentence2_tokenized</th>\n",
       "      <th>match</th>\n",
       "    </tr>\n",
       "  </thead>\n",
       "  <tbody>\n",
       "  </tbody>\n",
       "</table>\n",
       "</div>"
      ],
      "text/plain": [
       "Empty DataFrame\n",
       "Columns: [language, gold_label, sentence1_binary_parse, sentence2_binary_parse, sentence1_parse, sentence2_parse, sentence1, sentence2, promptID, pairID, genre, label1, label2, label3, label4, label5, sentence1_tokenized, sentence2_tokenized, match]\n",
       "Index: []"
      ]
     },
     "execution_count": 8,
     "metadata": {},
     "output_type": "execute_result"
    }
   ],
   "source": [
    "xnli_sentences_du = df[df['language'] == 'du']\n",
    "xnli_sentences_du.head()"
   ]
  },
  {
   "cell_type": "code",
   "execution_count": 7,
   "metadata": {},
   "outputs": [
    {
     "data": {
      "text/plain": [
       "32248    بلی کی پانچویں ٹانگ ڈھونڈنا کے معنی مشکل کو ڈھ...\n",
       "23543    Mitaa jirani kama Mallorca, Valencia, na Prove...\n",
       "33416    Culebra còn được biết đến là Đảo Virgin của Tâ...\n",
       "8152     Έτσι, ο Shannon πήρε τον λογάριθμο του τόμου σ...\n",
       "29382    Platine giden AÇIK ile neden neon KAPALI işare...\n",
       "16717    Votre soutien de Goodwill fournira une formati...\n",
       "34463    Bữa tối truyền hình mang một sự kỳ thị khủng k...\n",
       "12768    Sí y solo como que lo guardamos ay algo como u...\n",
       "18334    ऐसी बातों के लिए कोई हिफ़ाज़त नहीं है,जैसे कि ...\n",
       "37023                                    时代周刊出版了两篇反情感类的文章。\n",
       "Name: sentence1, dtype: object"
      ]
     },
     "execution_count": 7,
     "metadata": {},
     "output_type": "execute_result"
    }
   ],
   "source": [
    "xnli_sentences = df['sentence1']\n",
    "xnli_sentences.sample(10)"
   ]
  },
  {
   "cell_type": "code",
   "execution_count": 36,
   "metadata": {},
   "outputs": [],
   "source": [
    "xnli_sentences.sample(10000).to_csv(data_dir/'xnli.txt', index=False, header=False)"
   ]
  },
  {
   "cell_type": "code",
   "execution_count": null,
   "metadata": {},
   "outputs": [],
   "source": []
  }
 ],
 "metadata": {
  "kernelspec": {
   "display_name": "Python [conda env:infomax] *",
   "language": "python",
   "name": "conda-env-infomax-py"
  },
  "language_info": {
   "codemirror_mode": {
    "name": "ipython",
    "version": 3
   },
   "file_extension": ".py",
   "mimetype": "text/x-python",
   "name": "python",
   "nbconvert_exporter": "python",
   "pygments_lexer": "ipython3",
   "version": "3.6.8"
  }
 },
 "nbformat": 4,
 "nbformat_minor": 4
}
