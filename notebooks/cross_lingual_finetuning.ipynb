{
 "cells": [
  {
   "cell_type": "markdown",
   "metadata": {
    "colab_type": "text",
    "id": "kpSXcqL4uLfC"
   },
   "source": [
    "# Cross Lingual Finetuning on Language Modeling Task\n",
    "---"
   ]
  },
  {
   "cell_type": "code",
   "execution_count": 1,
   "metadata": {
    "colab": {
     "base_uri": "https://localhost:8080/",
     "height": 312
    },
    "colab_type": "code",
    "id": "CKNLIuCcuT4G",
    "outputId": "1f06465f-d3c1-41ce-fee0-d19914f17249"
   },
   "outputs": [
    {
     "name": "stdout",
     "output_type": "stream",
     "text": [
      "Thu May  7 21:53:42 2020       \n",
      "+-----------------------------------------------------------------------------+\n",
      "| NVIDIA-SMI 440.82       Driver Version: 418.67       CUDA Version: 10.1     |\n",
      "|-------------------------------+----------------------+----------------------+\n",
      "| GPU  Name        Persistence-M| Bus-Id        Disp.A | Volatile Uncorr. ECC |\n",
      "| Fan  Temp  Perf  Pwr:Usage/Cap|         Memory-Usage | GPU-Util  Compute M. |\n",
      "|===============================+======================+======================|\n",
      "|   0  Tesla P100-PCIE...  Off  | 00000000:00:04.0 Off |                    0 |\n",
      "| N/A   47C    P0    28W / 250W |      0MiB / 16280MiB |      0%      Default |\n",
      "+-------------------------------+----------------------+----------------------+\n",
      "                                                                               \n",
      "+-----------------------------------------------------------------------------+\n",
      "| Processes:                                                       GPU Memory |\n",
      "|  GPU       PID   Type   Process name                             Usage      |\n",
      "|=============================================================================|\n",
      "|  No running processes found                                                 |\n",
      "+-----------------------------------------------------------------------------+\n"
     ]
    }
   ],
   "source": [
    "!nvidia-smi"
   ]
  },
  {
   "cell_type": "code",
   "execution_count": 2,
   "metadata": {
    "colab": {
     "base_uri": "https://localhost:8080/",
     "height": 332
    },
    "colab_type": "code",
    "id": "r-5vSUZuuaCb",
    "outputId": "5655c416-6eb5-4531-fe83-b31df9485a79"
   },
   "outputs": [
    {
     "name": "stdout",
     "output_type": "stream",
     "text": [
      "Requirement already satisfied: transformers in /usr/local/lib/python3.6/dist-packages (2.9.0)\n",
      "Requirement already satisfied: dataclasses; python_version < \"3.7\" in /usr/local/lib/python3.6/dist-packages (from transformers) (0.7)\n",
      "Requirement already satisfied: tokenizers==0.7.0 in /usr/local/lib/python3.6/dist-packages (from transformers) (0.7.0)\n",
      "Requirement already satisfied: regex!=2019.12.17 in /usr/local/lib/python3.6/dist-packages (from transformers) (2019.12.20)\n",
      "Requirement already satisfied: tqdm>=4.27 in /usr/local/lib/python3.6/dist-packages (from transformers) (4.38.0)\n",
      "Requirement already satisfied: sacremoses in /usr/local/lib/python3.6/dist-packages (from transformers) (0.0.43)\n",
      "Requirement already satisfied: sentencepiece in /usr/local/lib/python3.6/dist-packages (from transformers) (0.1.86)\n",
      "Requirement already satisfied: numpy in /usr/local/lib/python3.6/dist-packages (from transformers) (1.18.3)\n",
      "Requirement already satisfied: requests in /usr/local/lib/python3.6/dist-packages (from transformers) (2.23.0)\n",
      "Requirement already satisfied: filelock in /usr/local/lib/python3.6/dist-packages (from transformers) (3.0.12)\n",
      "Requirement already satisfied: click in /usr/local/lib/python3.6/dist-packages (from sacremoses->transformers) (7.1.2)\n",
      "Requirement already satisfied: joblib in /usr/local/lib/python3.6/dist-packages (from sacremoses->transformers) (0.14.1)\n",
      "Requirement already satisfied: six in /usr/local/lib/python3.6/dist-packages (from sacremoses->transformers) (1.12.0)\n",
      "Requirement already satisfied: certifi>=2017.4.17 in /usr/local/lib/python3.6/dist-packages (from requests->transformers) (2020.4.5.1)\n",
      "Requirement already satisfied: idna<3,>=2.5 in /usr/local/lib/python3.6/dist-packages (from requests->transformers) (2.9)\n",
      "Requirement already satisfied: urllib3!=1.25.0,!=1.25.1,<1.26,>=1.21.1 in /usr/local/lib/python3.6/dist-packages (from requests->transformers) (1.24.3)\n",
      "Requirement already satisfied: chardet<4,>=3.0.2 in /usr/local/lib/python3.6/dist-packages (from requests->transformers) (3.0.4)\n"
     ]
    }
   ],
   "source": [
    "!pip install transformers"
   ]
  },
  {
   "cell_type": "markdown",
   "metadata": {
    "colab_type": "text",
    "id": "OipCqFHcuLfF"
   },
   "source": [
    "## Import Libraries"
   ]
  },
  {
   "cell_type": "code",
   "execution_count": null,
   "metadata": {
    "colab": {},
    "colab_type": "code",
    "id": "DUbzWOl8uLfI"
   },
   "outputs": [],
   "source": [
    "import torch\n",
    "import logging\n",
    "from pathlib import Path\n",
    "from functools import partial\n",
    "from tqdm.notebook import tqdm\n",
    "from typing import List, Tuple\n",
    "from torch.utils.data import Dataset, DataLoader, SequentialSampler, RandomSampler\n",
    "from torch.nn.utils.rnn import pad_sequence"
   ]
  },
  {
   "cell_type": "code",
   "execution_count": null,
   "metadata": {
    "colab": {},
    "colab_type": "code",
    "id": "nwZw1f_puLfd"
   },
   "outputs": [],
   "source": [
    "from transformers import (\n",
    "    AdamW,\n",
    "    PreTrainedModel,\n",
    "    PreTrainedTokenizer,\n",
    "    BertTokenizer,\n",
    "    BertForMaskedLM,\n",
    "    get_linear_schedule_with_warmup,\n",
    ")"
   ]
  },
  {
   "cell_type": "markdown",
   "metadata": {
    "colab_type": "text",
    "id": "KOkKGVKIuLfn"
   },
   "source": [
    "## Global Config"
   ]
  },
  {
   "cell_type": "code",
   "execution_count": null,
   "metadata": {
    "colab": {},
    "colab_type": "code",
    "id": "BnjwZ0YCuLfq"
   },
   "outputs": [],
   "source": [
    "device = \"cuda\"\n",
    "epochs = 1\n",
    "batch_size = 4\n",
    "data_dir = Path(\"/content/\")\n",
    "cache_dir = Path(\"/content/cache\")\n",
    "max_grad_norm = 1.0"
   ]
  },
  {
   "cell_type": "markdown",
   "metadata": {
    "colab_type": "text",
    "id": "3OdDO8NTuLfx"
   },
   "source": [
    "## Utils"
   ]
  },
  {
   "cell_type": "code",
   "execution_count": null,
   "metadata": {
    "colab": {},
    "colab_type": "code",
    "id": "_rz-r2hnuLfz"
   },
   "outputs": [],
   "source": [
    "def mask_tokens(inputs: torch.Tensor, tokenizer: PreTrainedTokenizer, mlm_probability=0.15) -> Tuple[torch.Tensor, torch.Tensor]:\n",
    "    \"\"\" Prepare masked tokens inputs/labels for masked language modeling: 80% MASK, 10% random, 10% original. \"\"\"\n",
    "\n",
    "    if tokenizer.mask_token is None:\n",
    "        raise ValueError(\n",
    "            \"This tokenizer does not have a mask token which is necessary for masked language modeling. Remove the --mlm flag if you want to use this tokenizer.\"\n",
    "        )\n",
    "\n",
    "    labels = inputs.clone()\n",
    "    # We sample a few tokens in each sequence for masked-LM training (with probability args.mlm_probability defaults to 0.15 in Bert/RoBERTa)\n",
    "    probability_matrix = torch.full(labels.shape, mlm_probability)\n",
    "    special_tokens_mask = [\n",
    "        tokenizer.get_special_tokens_mask(val, already_has_special_tokens=True) for val in labels.tolist()\n",
    "    ]\n",
    "    probability_matrix.masked_fill_(torch.tensor(special_tokens_mask, dtype=torch.bool), value=0.0)\n",
    "    if tokenizer._pad_token is not None:\n",
    "        padding_mask = labels.eq(tokenizer.pad_token_id)\n",
    "        probability_matrix.masked_fill_(padding_mask, value=0.0)\n",
    "    masked_indices = torch.bernoulli(probability_matrix).bool()\n",
    "    labels[~masked_indices] = -100  # We only compute loss on masked tokens\n",
    "\n",
    "    # 80% of the time, we replace masked input tokens with tokenizer.mask_token ([MASK])\n",
    "    indices_replaced = torch.bernoulli(torch.full(labels.shape, 0.8)).bool() & masked_indices\n",
    "    inputs[indices_replaced] = tokenizer.convert_tokens_to_ids(tokenizer.mask_token)\n",
    "\n",
    "    # 10% of the time, we replace masked input tokens with random word\n",
    "    indices_random = torch.bernoulli(torch.full(labels.shape, 0.5)).bool() & masked_indices & ~indices_replaced\n",
    "    random_words = torch.randint(len(tokenizer), labels.shape, dtype=torch.long)\n",
    "    inputs[indices_random] = random_words[indices_random]\n",
    "\n",
    "    # The rest of the time (10% of the time) we keep the masked input tokens unchanged\n",
    "    return inputs, labels"
   ]
  },
  {
   "cell_type": "markdown",
   "metadata": {
    "colab_type": "text",
    "id": "YYQ_jcYeuLf5"
   },
   "source": [
    "# Load Multilingual BERT"
   ]
  },
  {
   "cell_type": "code",
   "execution_count": null,
   "metadata": {
    "colab": {},
    "colab_type": "code",
    "id": "jwsB9U88uLf7"
   },
   "outputs": [],
   "source": [
    "model = BertForMaskedLM.from_pretrained('bert-base-multilingual-cased', cache_dir=cache_dir)"
   ]
  },
  {
   "cell_type": "code",
   "execution_count": null,
   "metadata": {
    "colab": {},
    "colab_type": "code",
    "id": "N-XVkBVyuLgE"
   },
   "outputs": [],
   "source": [
    "tokenizer = BertTokenizer.from_pretrained('bert-base-multilingual-cased', cache_dir=cache_dir)"
   ]
  },
  {
   "cell_type": "markdown",
   "metadata": {
    "colab_type": "text",
    "id": "Dhj_5HWeuLgJ"
   },
   "source": [
    "# Dutch Dataset"
   ]
  },
  {
   "cell_type": "code",
   "execution_count": null,
   "metadata": {
    "colab": {},
    "colab_type": "code",
    "id": "u1uPGZtSuLgL"
   },
   "outputs": [],
   "source": [
    "class LineByLineTextDataset(Dataset):\n",
    "    def __init__(self, tokenizer: PreTrainedTokenizer, file_path: Path, block_size=512):\n",
    "        assert file_path.is_file(), \"Missing data file\"\n",
    "        \n",
    "        with open(file_path, encoding=\"utf-8\") as f:\n",
    "            lines = [line for line in f.read().splitlines() if (len(line) > 0 and not line.isspace())]\n",
    "\n",
    "        self.examples = tokenizer.batch_encode_plus(lines, add_special_tokens=True, max_length=block_size)[\"input_ids\"]\n",
    "\n",
    "    def __len__(self):\n",
    "        return len(self.examples)\n",
    "\n",
    "    def __getitem__(self, i):\n",
    "        return torch.tensor(self.examples[i], dtype=torch.long)"
   ]
  },
  {
   "cell_type": "code",
   "execution_count": null,
   "metadata": {
    "colab": {},
    "colab_type": "code",
    "id": "1UVoVvNluLgW"
   },
   "outputs": [],
   "source": [
    "def collate(examples: List[torch.Tensor], pad_token_id: int):\n",
    "    return pad_sequence(examples, batch_first=True, padding_value=pad_token_id)"
   ]
  },
  {
   "cell_type": "code",
   "execution_count": 10,
   "metadata": {
    "colab": {
     "base_uri": "https://localhost:8080/",
     "height": 69
    },
    "colab_type": "code",
    "id": "pBUkuhXjuLgb",
    "outputId": "562b12e1-3015-45c0-a39d-4dc8635cedd2"
   },
   "outputs": [
    {
     "data": {
      "text/plain": [
       "tensor([  101, 10167, 13610, 38071, 10785, 10574, 35916, 10303, 10223, 49437,\n",
       "        10415, 88101, 10107, 73918, 11280, 74368, 20817, 10423, 10187, 18011,\n",
       "        21848, 12027,   119,   102])"
      ]
     },
     "execution_count": 10,
     "metadata": {
      "tags": []
     },
     "output_type": "execute_result"
    }
   ],
   "source": [
    "eval_dataset = LineByLineTextDataset(tokenizer, data_dir / \"valid.txt\", tokenizer.max_len)\n",
    "eval_dataset[0]"
   ]
  },
  {
   "cell_type": "code",
   "execution_count": null,
   "metadata": {
    "colab": {},
    "colab_type": "code",
    "id": "O0kZH5ubuLgg"
   },
   "outputs": [],
   "source": [
    "eval_sampler = SequentialSampler(eval_dataset)\n",
    "eval_dataloader = DataLoader(eval_dataset, sampler=eval_sampler, batch_size=batch_size,\n",
    "                             collate_fn=partial(collate, pad_token_id=tokenizer.pad_token_id))"
   ]
  },
  {
   "cell_type": "code",
   "execution_count": 12,
   "metadata": {
    "colab": {
     "base_uri": "https://localhost:8080/",
     "height": 225
    },
    "colab_type": "code",
    "id": "EFVTMBnMuLgl",
    "outputId": "803796fe-0993-4867-b127-59a20ff4a750"
   },
   "outputs": [
    {
     "data": {
      "text/plain": [
       "tensor([[   101,  10167,  13610,  38071,  10785,  10574,  35916,  10303,  10223,\n",
       "          49437,  10415,  88101,  10107,  73918,  11280,  74368,  20817,  10423,\n",
       "          10187,  18011,  21848,  12027,    119,    102],\n",
       "        [   101,  12076,  28560,  11690,  63790,  27124,  10540,  20085,  15559,\n",
       "          10136,  10697,  10106,  12313,    119,    102,      0,      0,      0,\n",
       "              0,      0,      0,      0,      0,      0],\n",
       "        [   101,  11474,  13790,  10697,  13978,  10134,  10785,  12046, 107241,\n",
       "          46680,  10877,  10145,  10104,  73708,  10145,  88101,  10107,  73918,\n",
       "          11280,  74368,  20817,  10107,    119,    102],\n",
       "        [   101,  10167,  48811,  10368,  10124,  10200,  37695,  11422,  14166,\n",
       "          84811,    119,    102,      0,      0,      0,      0,      0,      0,\n",
       "              0,      0,      0,      0,      0,      0]])"
      ]
     },
     "execution_count": 12,
     "metadata": {
      "tags": []
     },
     "output_type": "execute_result"
    }
   ],
   "source": [
    "batch = next(iter(eval_dataloader))\n",
    "batch"
   ]
  },
  {
   "cell_type": "code",
   "execution_count": 13,
   "metadata": {
    "colab": {
     "base_uri": "https://localhost:8080/",
     "height": 434
    },
    "colab_type": "code",
    "id": "eVcCE_yhuLgw",
    "outputId": "b1495fa0-0391-42d6-8036-98d66fe195bf"
   },
   "outputs": [
    {
     "data": {
      "text/plain": [
       "(tensor([[   101,    103,    103,  38071,  10785,  10574,    103,  10303,  10223,\n",
       "           49437,  10415,  88101,  10107,  73918,    103,  74368,  20817,  10423,\n",
       "           10187,  18011,  21848,  12027,    103,    102],\n",
       "         [   101,  12076,  28560,  11690,  63790,  27124,  10540,  20085,    103,\n",
       "           10136,  10697,    103,  12313,    103,    102,      0,      0,      0,\n",
       "               0,      0,      0,      0,      0,      0],\n",
       "         [   101,  11474,  13790,  10697,  13978,  10134,  10785,  12046, 107241,\n",
       "           46680,  10877,  10145,  10104,  73708,  10145,  88101,    103,  73918,\n",
       "           11280,  74368,  20817,  10107,    119,    102],\n",
       "         [   101,    103,  48811,  10368,  10124,  10200,  37695,  11422,  14166,\n",
       "           84811,    119,    102,      0,      0,      0,      0,      0,      0,\n",
       "               0,      0,      0,      0,      0,      0]]),\n",
       " tensor([[ -100, 10167, 13610,  -100,  -100,  -100, 35916,  -100,  -100,  -100,\n",
       "           -100,  -100,  -100,  -100, 11280,  -100,  -100,  -100,  -100,  -100,\n",
       "           -100,  -100,   119,  -100],\n",
       "         [ -100, 12076,  -100,  -100,  -100,  -100,  -100,  -100, 15559,  -100,\n",
       "           -100, 10106,  -100,   119,  -100,  -100,  -100,  -100,  -100,  -100,\n",
       "           -100,  -100,  -100,  -100],\n",
       "         [ -100,  -100,  -100,  -100,  -100,  -100,  -100,  -100,  -100,  -100,\n",
       "           -100, 10145,  -100,  -100,  -100,  -100, 10107,  -100,  -100,  -100,\n",
       "           -100,  -100,  -100,  -100],\n",
       "         [ -100, 10167,  -100,  -100,  -100,  -100,  -100,  -100,  -100,  -100,\n",
       "           -100,  -100,  -100,  -100,  -100,  -100,  -100,  -100,  -100,  -100,\n",
       "           -100,  -100,  -100,  -100]]))"
      ]
     },
     "execution_count": 13,
     "metadata": {
      "tags": []
     },
     "output_type": "execute_result"
    }
   ],
   "source": [
    "inputs, labels = mask_tokens(batch, tokenizer)\n",
    "inputs, labels"
   ]
  },
  {
   "cell_type": "markdown",
   "metadata": {
    "colab_type": "text",
    "id": "MvYfWyP2B4mW"
   },
   "source": [
    "# Training"
   ]
  },
  {
   "cell_type": "code",
   "execution_count": null,
   "metadata": {
    "colab": {},
    "colab_type": "code",
    "id": "2KxQohnmB4mX"
   },
   "outputs": [],
   "source": [
    "train_dataset = LineByLineTextDataset(tokenizer, data_dir / \"train.txt\", tokenizer.max_len)"
   ]
  },
  {
   "cell_type": "code",
   "execution_count": null,
   "metadata": {
    "colab": {},
    "colab_type": "code",
    "id": "of1qiJphCzns"
   },
   "outputs": [],
   "source": [
    "train_sampler = RandomSampler(train_dataset)\n",
    "train_dataloader = DataLoader(train_dataset, sampler=train_sampler, batch_size=batch_size,\n",
    "                              collate_fn=partial(collate, pad_token_id=tokenizer.pad_token_id))"
   ]
  },
  {
   "cell_type": "code",
   "execution_count": null,
   "metadata": {
    "colab": {},
    "colab_type": "code",
    "id": "n75wdiVkB4ma"
   },
   "outputs": [],
   "source": [
    "def train(train_dataloader,\n",
    "          model: PreTrainedModel,\n",
    "          tokenizer: PreTrainedTokenizer,\n",
    "          epochs: int,\n",
    "          batch_size: int,\n",
    "          adam_epsilon: float = 1e-8,\n",
    "          warmup_steps: int = 0,\n",
    "          weight_decay: float = 0.0,\n",
    "          learning_rate: float = 5e-5) -> Tuple[int, float]:\n",
    "    model.train()\n",
    "    model.to(device)\n",
    "\n",
    "    t_total = len(train_dataloader) * epochs\n",
    "    model.resize_token_embeddings(len(tokenizer))\n",
    "\n",
    "    # Prepare optimizer and schedule (linear warmup and decay)\n",
    "    no_decay = [\"bias\", \"LayerNorm.weight\"]\n",
    "    optimizer_grouped_parameters = [\n",
    "        {\n",
    "            \"params\": [p for n, p in model.named_parameters() if not any(nd in n for nd in no_decay)],\n",
    "            \"weight_decay\": weight_decay,\n",
    "        },\n",
    "        {\"params\": [p for n, p in model.named_parameters() if any(nd in n for nd in no_decay)], \"weight_decay\": 0.0},\n",
    "    ]\n",
    "    optimizer = AdamW(optimizer_grouped_parameters, lr=learning_rate, eps=adam_epsilon)\n",
    "    scheduler = get_linear_schedule_with_warmup(\n",
    "        optimizer, num_warmup_steps=warmup_steps, num_training_steps=t_total\n",
    "    )\n",
    "\n",
    "    global_step = 0\n",
    "    tr_loss = 0.0\n",
    "\n",
    "    model.zero_grad()\n",
    "    for _ in range(epochs):\n",
    "        epoch_iterator = tqdm(train_dataloader, desc=\"Iteration\")\n",
    "        for step, batch in enumerate(epoch_iterator):\n",
    "\n",
    "            inputs, labels = mask_tokens(batch, tokenizer)\n",
    "            inputs = inputs.to(device)\n",
    "            labels = labels.to(device)\n",
    "            model.train()\n",
    "            outputs = model(inputs, masked_lm_labels=labels)\n",
    "            loss = outputs[0]  # model outputs are always tuple in transformers (see doc)\n",
    "            loss.backward()\n",
    "\n",
    "            torch.nn.utils.clip_grad_norm_(model.parameters(), max_grad_norm)\n",
    "            optimizer.step()\n",
    "            scheduler.step()  # Update learning rate schedule\n",
    "            model.zero_grad()\n",
    "            global_step += 1\n",
    "            \n",
    "            if global_step%100 == 0:\n",
    "              print(f\"Step:{global_step} Loss:{loss.item()}\")\n",
    "\n",
    "            '''\n",
    "            model_to_save.save_pretrained(output_dir)\n",
    "            tokenizer.save_pretrained(output_dir)\n",
    "            torch.save(args, os.path.join(output_dir, \"training_args.bin\"))\n",
    "            logger.info(\"Saving model checkpoint to %s\", output_dir)\n",
    "            torch.save(optimizer.state_dict(), os.path.join(output_dir, \"optimizer.pt\"))\n",
    "            torch.save(scheduler.state_dict(), os.path.join(output_dir, \"scheduler.pt\"))\n",
    "            logger.info(\"Saving optimizer and scheduler states to %s\", output_dir)\n",
    "            '''\n",
    "\n",
    "    return tr_loss"
   ]
  },
  {
   "cell_type": "code",
   "execution_count": 17,
   "metadata": {
    "colab": {
     "base_uri": "https://localhost:8080/",
     "height": 1000,
     "referenced_widgets": [
      "1a9b1d2a675e4b79bc891074cf8985a8",
      "e9fdc4a247514d5fbed70448f2d452cd",
      "5edf41b0e2334a838d14d3673cf4861a",
      "9089030d505d4aeeb91909660cd48560",
      "b24b9473de23429e9532702a35334caa",
      "2d67d1b3d7c4463bbfda87f91b6166f2",
      "6081f32e08334e989324e6d5a56ce684",
      "23736553aca14fa0864b3682b3f56c42"
     ]
    },
    "colab_type": "code",
    "id": "Qmd9lPZDB4me",
    "outputId": "def58bc3-d3e9-40c6-c118-e978fb1a48c0"
   },
   "outputs": [
    {
     "data": {
      "application/vnd.jupyter.widget-view+json": {
       "model_id": "1a9b1d2a675e4b79bc891074cf8985a8",
       "version_major": 2,
       "version_minor": 0
      },
      "text/plain": [
       "HBox(children=(IntProgress(value=0, description='Iteration', max=20000, style=ProgressStyle(description_width=…"
      ]
     },
     "metadata": {
      "tags": []
     },
     "output_type": "display_data"
    },
    {
     "name": "stderr",
     "output_type": "stream",
     "text": [
      "/pytorch/torch/csrc/utils/python_arg_parser.cpp:756: UserWarning: This overload of add_ is deprecated:\n",
      "\tadd_(Number alpha, Tensor other)\n",
      "Consider using one of the following signatures instead:\n",
      "\tadd_(Tensor other, *, Number alpha)\n"
     ]
    },
    {
     "name": "stdout",
     "output_type": "stream",
     "text": [
      "Step:100 Loss:1.8251819610595703\n",
      "Step:200 Loss:2.5557920932769775\n",
      "Step:300 Loss:2.871283531188965\n",
      "Step:400 Loss:1.977010726928711\n",
      "Step:500 Loss:2.567967414855957\n",
      "Step:600 Loss:3.0234196186065674\n",
      "Step:700 Loss:2.507707357406616\n",
      "Step:800 Loss:0.2539706826210022\n",
      "Step:900 Loss:2.0257086753845215\n",
      "Step:1000 Loss:2.034459352493286\n",
      "Step:1100 Loss:2.6103057861328125\n",
      "Step:1200 Loss:3.149667501449585\n",
      "Step:1300 Loss:1.6349120140075684\n",
      "Step:1400 Loss:1.558638334274292\n",
      "Step:1500 Loss:2.168497085571289\n",
      "Step:1600 Loss:1.5064332485198975\n",
      "Step:1700 Loss:4.168768882751465\n",
      "Step:1800 Loss:3.3562839031219482\n",
      "Step:1900 Loss:2.9333038330078125\n",
      "Step:2000 Loss:1.5825611352920532\n",
      "Step:2100 Loss:2.6400489807128906\n",
      "Step:2200 Loss:1.0358847379684448\n",
      "Step:2300 Loss:2.6385340690612793\n",
      "Step:2400 Loss:1.7754117250442505\n",
      "Step:2500 Loss:1.787164568901062\n",
      "Step:2600 Loss:2.9130992889404297\n",
      "Step:2700 Loss:2.7998452186584473\n",
      "Step:2800 Loss:4.1013054847717285\n",
      "Step:2900 Loss:3.008906364440918\n",
      "Step:3000 Loss:2.093066930770874\n",
      "Step:3100 Loss:3.0868775844573975\n",
      "Step:3200 Loss:0.9861592054367065\n",
      "Step:3300 Loss:1.8014841079711914\n",
      "Step:3400 Loss:2.2590861320495605\n",
      "Step:3500 Loss:1.9243477582931519\n",
      "Step:3600 Loss:3.0970044136047363\n",
      "Step:3700 Loss:3.807778835296631\n",
      "Step:3800 Loss:1.5898895263671875\n",
      "Step:3900 Loss:1.6475993394851685\n",
      "Step:4000 Loss:4.051611423492432\n",
      "Step:4100 Loss:2.645956516265869\n",
      "Step:4200 Loss:1.8217040300369263\n",
      "Step:4300 Loss:1.2551285028457642\n",
      "Step:4400 Loss:2.053652763366699\n",
      "Step:4500 Loss:2.224651336669922\n",
      "Step:4600 Loss:1.734397530555725\n",
      "Step:4700 Loss:3.8911595344543457\n",
      "Step:4800 Loss:3.365656614303589\n",
      "Step:4900 Loss:2.532263994216919\n",
      "Step:5000 Loss:1.842539668083191\n",
      "Step:5100 Loss:3.2523465156555176\n",
      "Step:5200 Loss:0.3054734468460083\n",
      "Step:5300 Loss:1.2985223531723022\n",
      "Step:5400 Loss:2.552969455718994\n",
      "Step:5500 Loss:2.4099414348602295\n",
      "Step:5600 Loss:3.3309895992279053\n",
      "Step:5700 Loss:1.8992828130722046\n",
      "Step:5800 Loss:3.0653388500213623\n",
      "Step:5900 Loss:1.4076464176177979\n",
      "Step:6000 Loss:1.1920983791351318\n",
      "Step:6100 Loss:2.051600456237793\n",
      "Step:6200 Loss:2.2731990814208984\n",
      "Step:6300 Loss:2.5127384662628174\n",
      "Step:6400 Loss:2.7069387435913086\n",
      "Step:6500 Loss:2.8003580570220947\n",
      "Step:6600 Loss:1.5548924207687378\n",
      "Step:6700 Loss:2.731252431869507\n",
      "Step:6800 Loss:1.932247281074524\n",
      "Step:6900 Loss:1.994971513748169\n",
      "Step:7000 Loss:0.628139853477478\n",
      "Step:7100 Loss:2.799966812133789\n",
      "Step:7200 Loss:2.261784791946411\n",
      "Step:7300 Loss:2.9707698822021484\n",
      "Step:7400 Loss:1.812781572341919\n",
      "Step:7500 Loss:2.8662502765655518\n",
      "Step:7600 Loss:1.9960507154464722\n",
      "Step:7700 Loss:1.4516232013702393\n",
      "Step:7800 Loss:1.904337763786316\n",
      "Step:7900 Loss:3.359225273132324\n",
      "Step:8000 Loss:2.1100547313690186\n",
      "Step:8100 Loss:2.8973312377929688\n",
      "Step:8200 Loss:1.7656012773513794\n",
      "Step:8300 Loss:2.005211353302002\n",
      "Step:8400 Loss:2.144726276397705\n",
      "Step:8500 Loss:0.5003325343132019\n",
      "Step:8600 Loss:1.0356900691986084\n",
      "Step:8700 Loss:4.125211715698242\n",
      "Step:8800 Loss:1.4696353673934937\n",
      "Step:8900 Loss:2.0157999992370605\n",
      "Step:9000 Loss:3.0507819652557373\n",
      "Step:9100 Loss:3.289093255996704\n",
      "Step:9200 Loss:2.0581347942352295\n",
      "Step:9300 Loss:2.0389013290405273\n",
      "Step:9400 Loss:1.0343974828720093\n",
      "Step:9500 Loss:1.7702093124389648\n",
      "Step:9600 Loss:1.1442326307296753\n",
      "Step:9700 Loss:2.6459336280822754\n",
      "Step:9800 Loss:0.9480733871459961\n",
      "Step:9900 Loss:3.062206983566284\n",
      "Step:10000 Loss:1.1213011741638184\n",
      "Step:10100 Loss:1.3425354957580566\n",
      "Step:10200 Loss:1.4702402353286743\n",
      "Step:10300 Loss:1.9875739812850952\n",
      "Step:10400 Loss:1.7577178478240967\n",
      "Step:10500 Loss:3.4571540355682373\n",
      "Step:10600 Loss:1.2344894409179688\n",
      "Step:10700 Loss:1.4099959135055542\n",
      "Step:10800 Loss:1.7385056018829346\n",
      "Step:10900 Loss:2.7253615856170654\n",
      "Step:11000 Loss:1.7751442193984985\n",
      "Step:11100 Loss:1.5357269048690796\n",
      "Step:11200 Loss:2.2498927116394043\n",
      "Step:11300 Loss:2.755260944366455\n",
      "Step:11400 Loss:2.558387279510498\n",
      "Step:11500 Loss:1.408812403678894\n",
      "Step:11600 Loss:1.6063437461853027\n",
      "Step:11700 Loss:2.0663866996765137\n",
      "Step:11800 Loss:1.5453273057937622\n",
      "Step:11900 Loss:2.9669792652130127\n",
      "Step:12000 Loss:2.4517080783843994\n",
      "Step:12100 Loss:2.457519769668579\n",
      "Step:12200 Loss:2.3362009525299072\n",
      "Step:12300 Loss:2.1490325927734375\n",
      "Step:12400 Loss:2.6444132328033447\n",
      "Step:12500 Loss:1.5064009428024292\n",
      "Step:12600 Loss:1.6932505369186401\n",
      "Step:12700 Loss:3.68245267868042\n",
      "Step:12800 Loss:1.52640962600708\n",
      "Step:12900 Loss:2.669931650161743\n",
      "Step:13000 Loss:1.6666226387023926\n",
      "Step:13100 Loss:1.7913888692855835\n",
      "Step:13200 Loss:1.481848955154419\n",
      "Step:13300 Loss:2.7131755352020264\n",
      "Step:13400 Loss:1.319921612739563\n",
      "Step:13500 Loss:3.2057034969329834\n",
      "Step:13600 Loss:1.3503872156143188\n",
      "Step:13700 Loss:1.873687744140625\n",
      "Step:13800 Loss:1.4015470743179321\n",
      "Step:13900 Loss:3.650454521179199\n",
      "Step:14000 Loss:1.8498393297195435\n",
      "Step:14100 Loss:1.5393593311309814\n",
      "Step:14200 Loss:1.552718162536621\n",
      "Step:14300 Loss:2.6271533966064453\n",
      "Step:14400 Loss:2.328061819076538\n",
      "Step:14500 Loss:0.5894854068756104\n",
      "Step:14600 Loss:3.3073482513427734\n",
      "Step:14700 Loss:3.0830419063568115\n",
      "Step:14800 Loss:1.228975772857666\n",
      "Step:14900 Loss:2.292677402496338\n",
      "Step:15000 Loss:1.8021011352539062\n",
      "Step:15100 Loss:1.3691017627716064\n",
      "Step:15200 Loss:1.5978515148162842\n",
      "Step:15300 Loss:2.9068055152893066\n",
      "Step:15400 Loss:2.1253998279571533\n",
      "Step:15500 Loss:3.1696887016296387\n",
      "Step:15600 Loss:1.3296709060668945\n",
      "Step:15700 Loss:2.7338340282440186\n",
      "Step:15800 Loss:1.5787746906280518\n",
      "Step:15900 Loss:1.7997448444366455\n",
      "Step:16000 Loss:1.6768487691879272\n",
      "Step:16100 Loss:1.9368903636932373\n",
      "Step:16200 Loss:1.3580023050308228\n",
      "Step:16300 Loss:1.0760371685028076\n",
      "Step:16400 Loss:1.1163080930709839\n",
      "Step:16500 Loss:1.6783020496368408\n",
      "Step:16600 Loss:2.675874710083008\n",
      "Step:16700 Loss:1.5480661392211914\n",
      "Step:16800 Loss:0.3444436192512512\n",
      "Step:16900 Loss:1.2546234130859375\n",
      "Step:17000 Loss:1.1132680177688599\n",
      "Step:17100 Loss:1.3317675590515137\n",
      "Step:17200 Loss:1.305517315864563\n",
      "Step:17300 Loss:3.413191318511963\n",
      "Step:17400 Loss:1.636542558670044\n",
      "Step:17500 Loss:2.9990768432617188\n",
      "Step:17600 Loss:1.4442288875579834\n",
      "Step:17700 Loss:1.6831331253051758\n",
      "Step:17800 Loss:1.181382656097412\n",
      "Step:17900 Loss:1.8622080087661743\n",
      "Step:18000 Loss:0.9920576214790344\n",
      "Step:18100 Loss:1.4048010110855103\n",
      "Step:18200 Loss:1.6934177875518799\n",
      "Step:18300 Loss:1.2542147636413574\n",
      "Step:18400 Loss:2.0622408390045166\n",
      "Step:18500 Loss:2.545058250427246\n",
      "Step:18600 Loss:1.6458340883255005\n",
      "Step:18700 Loss:1.2633682489395142\n",
      "Step:18800 Loss:1.9861042499542236\n",
      "Step:18900 Loss:0.8332371711730957\n",
      "Step:19000 Loss:1.3701375722885132\n",
      "Step:19100 Loss:1.5450514554977417\n",
      "Step:19200 Loss:1.6319347620010376\n",
      "Step:19300 Loss:2.4622273445129395\n",
      "Step:19400 Loss:1.8682774305343628\n",
      "Step:19500 Loss:0.608849048614502\n",
      "Step:19600 Loss:1.0176656246185303\n",
      "Step:19700 Loss:1.8321623802185059\n",
      "Step:19800 Loss:3.1076650619506836\n",
      "Step:19900 Loss:1.3129186630249023\n",
      "Step:20000 Loss:1.117095947265625\n",
      "\n"
     ]
    },
    {
     "data": {
      "text/plain": [
       "0.0"
      ]
     },
     "execution_count": 17,
     "metadata": {
      "tags": []
     },
     "output_type": "execute_result"
    }
   ],
   "source": [
    "train(train_dataloader, model, tokenizer, epochs, batch_size)"
   ]
  },
  {
   "cell_type": "code",
   "execution_count": null,
   "metadata": {
    "colab": {},
    "colab_type": "code",
    "id": "f569sfVzB4ms"
   },
   "outputs": [],
   "source": []
  },
  {
   "cell_type": "markdown",
   "metadata": {
    "colab_type": "text",
    "id": "PhmEK9dev5SR"
   },
   "source": [
    "# Evaluation"
   ]
  },
  {
   "cell_type": "code",
   "execution_count": 18,
   "metadata": {
    "colab": {
     "base_uri": "https://localhost:8080/",
     "height": 66,
     "referenced_widgets": [
      "865f3559afdc46d0914fafac3c155b04",
      "66268303e1994cdc840f31571ed50189",
      "26d9161ca2ee44b7a063e0bbcde3d503",
      "03b7215e812548ba9d7e05bf7a69d0e0",
      "f1d1e5e84fa847f38fa58cb2dba94048",
      "225103c585a14f6994457099bbbc491f",
      "20ca54a23d5848d69ffa7ddca703edfc",
      "471e08d5b09e4e76ba17f697d51adcdc"
     ]
    },
    "colab_type": "code",
    "id": "cLnKit12uLg1",
    "outputId": "7ae9b3d0-c9bd-432b-bbbd-01c79702ace8"
   },
   "outputs": [
    {
     "data": {
      "application/vnd.jupyter.widget-view+json": {
       "model_id": "865f3559afdc46d0914fafac3c155b04",
       "version_major": 2,
       "version_minor": 0
      },
      "text/plain": [
       "HBox(children=(IntProgress(value=0, description='Evaluating', max=2500, style=ProgressStyle(description_width=…"
      ]
     },
     "metadata": {
      "tags": []
     },
     "output_type": "display_data"
    },
    {
     "name": "stdout",
     "output_type": "stream",
     "text": [
      "\n"
     ]
    }
   ],
   "source": [
    "model.to(device)\n",
    "model.eval()\n",
    "eval_loss = 0.0\n",
    "nb_eval_steps = 0\n",
    "\n",
    "for batch in tqdm(eval_dataloader, desc=\"Evaluating\"):\n",
    "    inputs, labels = mask_tokens(batch, tokenizer)\n",
    "    inputs = inputs.to(device)\n",
    "    labels = labels.to(device)\n",
    "\n",
    "    with torch.no_grad():\n",
    "        outputs = model(inputs, masked_lm_labels=labels)\n",
    "        lm_loss = outputs[0]\n",
    "        eval_loss += lm_loss.mean().item()\n",
    "    nb_eval_steps += 1\n",
    "    \n",
    "eval_loss = eval_loss / nb_eval_steps\n",
    "perplexity = torch.exp(torch.tensor(eval_loss))"
   ]
  },
  {
   "cell_type": "code",
   "execution_count": 19,
   "metadata": {
    "colab": {
     "base_uri": "https://localhost:8080/",
     "height": 34
    },
    "colab_type": "code",
    "id": "WFPwSoUhuLg4",
    "outputId": "cea656f3-12de-4bbe-c0ed-1e3dc0d97b97"
   },
   "outputs": [
    {
     "data": {
      "text/plain": [
       "tensor(7.3679)"
      ]
     },
     "execution_count": 19,
     "metadata": {
      "tags": []
     },
     "output_type": "execute_result"
    }
   ],
   "source": [
    "perplexity"
   ]
  },
  {
   "cell_type": "code",
   "execution_count": 20,
   "metadata": {
    "colab": {
     "base_uri": "https://localhost:8080/",
     "height": 34
    },
    "colab_type": "code",
    "id": "W3BSoPRauLg8",
    "outputId": "c3bc0a92-1d77-4229-9b6a-18ef303ad9ca"
   },
   "outputs": [
    {
     "data": {
      "text/plain": [
       "1.9971271817121654"
      ]
     },
     "execution_count": 20,
     "metadata": {
      "tags": []
     },
     "output_type": "execute_result"
    }
   ],
   "source": [
    "eval_loss"
   ]
  },
  {
   "cell_type": "code",
   "execution_count": 21,
   "metadata": {
    "colab": {
     "base_uri": "https://localhost:8080/",
     "height": 116,
     "referenced_widgets": [
      "e96a60db086c46fea39a1d7a19eea2b6",
      "198e9ff7847b41a5a7975cd3945be351",
      "d3eea2668b9f4234a8684c966a620141",
      "08a4a5384e9e413f8a426a4d28e8fef5",
      "784f74209a8d4d53a117cec10c409170",
      "dc2d8d80649b4cfaa7042e159ee7262a",
      "3055d90e0e134f519630661ddc9dbfab",
      "b1f03062c4a24dd18fa81ed98bf94c90",
      "2eff33edaff748a1be9a3d76fe0a2218",
      "aae1aeefaa834b6bae40ff153fd40a56",
      "391e4c54d83b45bcb052a8673819faf8",
      "5e8127e7acca4eb6bb0b6c13807d5447",
      "d5d63f7bc6bf460581de86399bf41f9b",
      "605b9f7ae7944102b0dae34b7f7c5c1a",
      "515ac9c25afe4ccabf4a010e385b9d68",
      "fb338f9ec2b94bdeaabfdfca9da0b570"
     ]
    },
    "colab_type": "code",
    "id": "ynz30nY3wJhj",
    "outputId": "a6eff975-5be5-472d-ddf3-68dc4dbe5ea2"
   },
   "outputs": [
    {
     "data": {
      "application/vnd.jupyter.widget-view+json": {
       "model_id": "e96a60db086c46fea39a1d7a19eea2b6",
       "version_major": 2,
       "version_minor": 0
      },
      "text/plain": [
       "HBox(children=(IntProgress(value=0, description='Downloading', max=433, style=ProgressStyle(description_width=…"
      ]
     },
     "metadata": {
      "tags": []
     },
     "output_type": "display_data"
    },
    {
     "name": "stdout",
     "output_type": "stream",
     "text": [
      "\n"
     ]
    },
    {
     "data": {
      "application/vnd.jupyter.widget-view+json": {
       "model_id": "2eff33edaff748a1be9a3d76fe0a2218",
       "version_major": 2,
       "version_minor": 0
      },
      "text/plain": [
       "HBox(children=(IntProgress(value=0, description='Downloading', max=438869143, style=ProgressStyle(description_…"
      ]
     },
     "metadata": {
      "tags": []
     },
     "output_type": "display_data"
    },
    {
     "name": "stdout",
     "output_type": "stream",
     "text": [
      "\n"
     ]
    }
   ],
   "source": [
    "bertje_model = BertForMaskedLM.from_pretrained(\"bert-base-dutch-cased\")"
   ]
  },
  {
   "cell_type": "code",
   "execution_count": 22,
   "metadata": {
    "colab": {
     "base_uri": "https://localhost:8080/",
     "height": 66,
     "referenced_widgets": [
      "d5343d41b5bc4d72b771024cad0203ce",
      "7f143ad4dd6a406194b7c929dcc618d2",
      "b0ffac6ff37f4267909b78d89f81f42e",
      "a21ffb29aef1430c96bba301c42d9141",
      "c2e485a9f1f146b292d83eec6216c898",
      "9c2623076c0d4cb2b2865b76e209bb82",
      "e20b37c1edac4b418c90968c719bbac5",
      "4534880a503b4463bb75a18677432cca"
     ]
    },
    "colab_type": "code",
    "id": "9wwiS-mlxXmp",
    "outputId": "5ae0cd1a-26cc-4733-b0c0-05ff15330b02"
   },
   "outputs": [
    {
     "data": {
      "application/vnd.jupyter.widget-view+json": {
       "model_id": "d5343d41b5bc4d72b771024cad0203ce",
       "version_major": 2,
       "version_minor": 0
      },
      "text/plain": [
       "HBox(children=(IntProgress(value=0, description='Downloading', max=241440, style=ProgressStyle(description_wid…"
      ]
     },
     "metadata": {
      "tags": []
     },
     "output_type": "display_data"
    },
    {
     "name": "stdout",
     "output_type": "stream",
     "text": [
      "\n"
     ]
    }
   ],
   "source": [
    "bertje_tokenizer = BertTokenizer.from_pretrained(\"bert-base-dutch-cased\")"
   ]
  },
  {
   "cell_type": "code",
   "execution_count": null,
   "metadata": {
    "colab": {},
    "colab_type": "code",
    "id": "5lXC7KuRxl0m"
   },
   "outputs": [],
   "source": [
    "eval_dataset = LineByLineTextDataset(bertje_tokenizer, data_dir / \"valid.txt\", bertje_tokenizer.max_len)\n",
    "eval_sampler = SequentialSampler(eval_dataset)\n",
    "eval_dataloader = DataLoader(eval_dataset, sampler=eval_sampler, batch_size=batch_size,\n",
    "                             collate_fn=partial(collate, pad_token_id=bertje_tokenizer.pad_token_id))"
   ]
  },
  {
   "cell_type": "code",
   "execution_count": 24,
   "metadata": {
    "colab": {
     "base_uri": "https://localhost:8080/",
     "height": 156
    },
    "colab_type": "code",
    "id": "MfQFNKV1xyQr",
    "outputId": "e9026a3f-bd9a-4465-9a6a-4ffbde5768d9"
   },
   "outputs": [
    {
     "data": {
      "text/plain": [
       "tensor([[    1,  3570,   229, 23116, 21829, 13291, 22777,  9910, 16804,  8421,\n",
       "         15018, 21849, 28920, 21877, 13261,  8578,  2214,    13,     2],\n",
       "        [    1,  3362,  9635, 10761, 15339, 20579, 25108, 20255, 13644,   266,\n",
       "            13,     2,     3,     3,     3,     3,     3,     3,     3],\n",
       "        [    1,  7222,   248, 20255,   251, 22250, 13291, 16348, 29566, 20722,\n",
       "         10537,  3886, 20722, 21849, 28921,    13,     2,     3,     3],\n",
       "        [    1,  3570,  2145,   126,   132, 13903, 11130, 17517, 15892, 13182,\n",
       "         21225,    13,     2,     3,     3,     3,     3,     3,     3]])"
      ]
     },
     "execution_count": 24,
     "metadata": {
      "tags": []
     },
     "output_type": "execute_result"
    }
   ],
   "source": [
    "batch = next(iter(eval_dataloader))\n",
    "batch"
   ]
  },
  {
   "cell_type": "code",
   "execution_count": 26,
   "metadata": {
    "colab": {
     "base_uri": "https://localhost:8080/",
     "height": 295
    },
    "colab_type": "code",
    "id": "QQEUz9P8x6wz",
    "outputId": "be83d3aa-e3e3-406d-9fc1-9baa00c0a34c"
   },
   "outputs": [
    {
     "data": {
      "text/plain": [
       "(tensor([[    1,  3570,   229, 23116, 21829,     4, 22777,  9910, 16804,  8421,\n",
       "              4, 21849, 28920, 21877, 13261,  8578,     4,    13,     2],\n",
       "         [    1,  3362,  9635, 10761, 15339, 20579, 25108, 20255, 13644,   266,\n",
       "              4,     2,     3,     3,     3,     3,     3,     3,     3],\n",
       "         [    1,     4,   248, 20255,   251, 22250, 13291, 16348, 29566, 20722,\n",
       "          10537,  3886,     4, 21849, 28921,    13,     2,     3,     3],\n",
       "         [    1,  3570,  2145,   126,   132, 13903, 11130, 17517, 15892, 13182,\n",
       "          21225,    13,     2,     3,     3,     3,     3,     3,     3]]),\n",
       " tensor([[ -100,  -100,  -100,  -100,  -100, 13291,  -100,  -100, 16804,  -100,\n",
       "          15018,  -100,  -100,  -100,  -100,  -100,  2214,  -100,  -100],\n",
       "         [ -100,  -100,  -100,  -100,  -100,  -100,  -100,  -100,  -100,  -100,\n",
       "             13,  -100,  -100,  -100,  -100,  -100,  -100,  -100,  -100],\n",
       "         [ -100,  7222,  -100,  -100,  -100,  -100,  -100,  -100,  -100,  -100,\n",
       "           -100,  -100, 20722,  -100, 28921,  -100,  -100,  -100,  -100],\n",
       "         [ -100,  -100,  -100,  -100,  -100,  -100,  -100,  -100,  -100,  -100,\n",
       "           -100,  -100,  -100,  -100,  -100,  -100,  -100,  -100,  -100]]))"
      ]
     },
     "execution_count": 26,
     "metadata": {
      "tags": []
     },
     "output_type": "execute_result"
    }
   ],
   "source": [
    "inputs, labels = mask_tokens(batch, bertje_tokenizer)\n",
    "inputs, labels"
   ]
  },
  {
   "cell_type": "code",
   "execution_count": 27,
   "metadata": {
    "colab": {
     "base_uri": "https://localhost:8080/",
     "height": 66,
     "referenced_widgets": [
      "5c4d6db6de534131a951c4dcf6f943b3",
      "54173c4418454c12b717042cdb94c0bd",
      "8da077a449bc4820abfc70d5e51172f4",
      "817a207fa47a4b05ae4211c46f96104f",
      "5dbe66d049ef40edbb6ebf457db578d1",
      "8463b6797c184fc4aa9ebc2675c2290c",
      "b6a40fc3404747c98e22f0b26a507ddd",
      "2f0f5c57a25f449d9cb3b94e080bf64f"
     ]
    },
    "colab_type": "code",
    "id": "o9uVOE7FwzON",
    "outputId": "1235af3d-c058-436d-a946-e8a600055f31"
   },
   "outputs": [
    {
     "data": {
      "application/vnd.jupyter.widget-view+json": {
       "model_id": "5c4d6db6de534131a951c4dcf6f943b3",
       "version_major": 2,
       "version_minor": 0
      },
      "text/plain": [
       "HBox(children=(IntProgress(value=0, description='Evaluating', max=2500, style=ProgressStyle(description_width=…"
      ]
     },
     "metadata": {
      "tags": []
     },
     "output_type": "display_data"
    },
    {
     "name": "stdout",
     "output_type": "stream",
     "text": [
      "\n"
     ]
    }
   ],
   "source": [
    "bertje_model.to(device)\n",
    "bertje_model.eval()\n",
    "eval_loss = 0.0\n",
    "nb_eval_steps = 0\n",
    "\n",
    "for batch in tqdm(eval_dataloader, desc=\"Evaluating\"):\n",
    "    inputs, labels = mask_tokens(batch, bertje_tokenizer)\n",
    "    inputs = inputs.to(device)\n",
    "    labels = labels.to(device)\n",
    "\n",
    "    with torch.no_grad():\n",
    "        outputs = bertje_model(inputs, masked_lm_labels=labels)\n",
    "        lm_loss = outputs[0]\n",
    "        eval_loss += lm_loss.mean().item()\n",
    "    nb_eval_steps += 1\n",
    "    \n",
    "eval_loss = eval_loss / nb_eval_steps\n",
    "perplexity = torch.exp(torch.tensor(eval_loss))"
   ]
  },
  {
   "cell_type": "code",
   "execution_count": 28,
   "metadata": {
    "colab": {
     "base_uri": "https://localhost:8080/",
     "height": 34
    },
    "colab_type": "code",
    "id": "pdJgmCz8w9SR",
    "outputId": "3e953177-dbbc-44f8-a8e2-623ca1935827"
   },
   "outputs": [
    {
     "data": {
      "text/plain": [
       "tensor(18.7426)"
      ]
     },
     "execution_count": 28,
     "metadata": {
      "tags": []
     },
     "output_type": "execute_result"
    }
   ],
   "source": [
    "perplexity"
   ]
  },
  {
   "cell_type": "code",
   "execution_count": 29,
   "metadata": {
    "colab": {
     "base_uri": "https://localhost:8080/",
     "height": 34
    },
    "colab_type": "code",
    "id": "5HcY1kOaxNws",
    "outputId": "4ec84b44-082e-4870-8854-be4d52d81370"
   },
   "outputs": [
    {
     "data": {
      "text/plain": [
       "2.930801215242967"
      ]
     },
     "execution_count": 29,
     "metadata": {
      "tags": []
     },
     "output_type": "execute_result"
    }
   ],
   "source": [
    "eval_loss"
   ]
  },
  {
   "cell_type": "code",
   "execution_count": null,
   "metadata": {
    "colab": {},
    "colab_type": "code",
    "id": "aQFBpY0xyv21"
   },
   "outputs": [],
   "source": []
  }
 ],
 "metadata": {
  "accelerator": "GPU",
  "colab": {
   "collapsed_sections": [],
   "name": "cross_lingual_finetuning.ipynb",
   "provenance": [],
   "toc_visible": true
  },
  "kernelspec": {
   "display_name": "Python 3",
   "language": "python",
   "name": "python3"
  },
  "language_info": {
   "codemirror_mode": {
    "name": "ipython",
    "version": 3
   },
   "file_extension": ".py",
   "mimetype": "text/x-python",
   "name": "python",
   "nbconvert_exporter": "python",
   "pygments_lexer": "ipython3",
   "version": "3.7.5"
  },
  "widgets": {
   "application/vnd.jupyter.widget-state+json": {
    "03b7215e812548ba9d7e05bf7a69d0e0": {
     "model_module": "@jupyter-widgets/controls",
     "model_name": "HTMLModel",
     "state": {
      "_dom_classes": [],
      "_model_module": "@jupyter-widgets/controls",
      "_model_module_version": "1.5.0",
      "_model_name": "HTMLModel",
      "_view_count": null,
      "_view_module": "@jupyter-widgets/controls",
      "_view_module_version": "1.5.0",
      "_view_name": "HTMLView",
      "description": "",
      "description_tooltip": null,
      "layout": "IPY_MODEL_471e08d5b09e4e76ba17f697d51adcdc",
      "placeholder": "​",
      "style": "IPY_MODEL_20ca54a23d5848d69ffa7ddca703edfc",
      "value": " 2500/2500 [01:17&lt;00:00, 32.35it/s]"
     }
    },
    "08a4a5384e9e413f8a426a4d28e8fef5": {
     "model_module": "@jupyter-widgets/controls",
     "model_name": "HTMLModel",
     "state": {
      "_dom_classes": [],
      "_model_module": "@jupyter-widgets/controls",
      "_model_module_version": "1.5.0",
      "_model_name": "HTMLModel",
      "_view_count": null,
      "_view_module": "@jupyter-widgets/controls",
      "_view_module_version": "1.5.0",
      "_view_name": "HTMLView",
      "description": "",
      "description_tooltip": null,
      "layout": "IPY_MODEL_b1f03062c4a24dd18fa81ed98bf94c90",
      "placeholder": "​",
      "style": "IPY_MODEL_3055d90e0e134f519630661ddc9dbfab",
      "value": " 433/433 [00:00&lt;00:00, 450B/s]"
     }
    },
    "198e9ff7847b41a5a7975cd3945be351": {
     "model_module": "@jupyter-widgets/base",
     "model_name": "LayoutModel",
     "state": {
      "_model_module": "@jupyter-widgets/base",
      "_model_module_version": "1.2.0",
      "_model_name": "LayoutModel",
      "_view_count": null,
      "_view_module": "@jupyter-widgets/base",
      "_view_module_version": "1.2.0",
      "_view_name": "LayoutView",
      "align_content": null,
      "align_items": null,
      "align_self": null,
      "border": null,
      "bottom": null,
      "display": null,
      "flex": null,
      "flex_flow": null,
      "grid_area": null,
      "grid_auto_columns": null,
      "grid_auto_flow": null,
      "grid_auto_rows": null,
      "grid_column": null,
      "grid_gap": null,
      "grid_row": null,
      "grid_template_areas": null,
      "grid_template_columns": null,
      "grid_template_rows": null,
      "height": null,
      "justify_content": null,
      "justify_items": null,
      "left": null,
      "margin": null,
      "max_height": null,
      "max_width": null,
      "min_height": null,
      "min_width": null,
      "object_fit": null,
      "object_position": null,
      "order": null,
      "overflow": null,
      "overflow_x": null,
      "overflow_y": null,
      "padding": null,
      "right": null,
      "top": null,
      "visibility": null,
      "width": null
     }
    },
    "1a9b1d2a675e4b79bc891074cf8985a8": {
     "model_module": "@jupyter-widgets/controls",
     "model_name": "HBoxModel",
     "state": {
      "_dom_classes": [],
      "_model_module": "@jupyter-widgets/controls",
      "_model_module_version": "1.5.0",
      "_model_name": "HBoxModel",
      "_view_count": null,
      "_view_module": "@jupyter-widgets/controls",
      "_view_module_version": "1.5.0",
      "_view_name": "HBoxView",
      "box_style": "",
      "children": [
       "IPY_MODEL_5edf41b0e2334a838d14d3673cf4861a",
       "IPY_MODEL_9089030d505d4aeeb91909660cd48560"
      ],
      "layout": "IPY_MODEL_e9fdc4a247514d5fbed70448f2d452cd"
     }
    },
    "20ca54a23d5848d69ffa7ddca703edfc": {
     "model_module": "@jupyter-widgets/controls",
     "model_name": "DescriptionStyleModel",
     "state": {
      "_model_module": "@jupyter-widgets/controls",
      "_model_module_version": "1.5.0",
      "_model_name": "DescriptionStyleModel",
      "_view_count": null,
      "_view_module": "@jupyter-widgets/base",
      "_view_module_version": "1.2.0",
      "_view_name": "StyleView",
      "description_width": ""
     }
    },
    "225103c585a14f6994457099bbbc491f": {
     "model_module": "@jupyter-widgets/base",
     "model_name": "LayoutModel",
     "state": {
      "_model_module": "@jupyter-widgets/base",
      "_model_module_version": "1.2.0",
      "_model_name": "LayoutModel",
      "_view_count": null,
      "_view_module": "@jupyter-widgets/base",
      "_view_module_version": "1.2.0",
      "_view_name": "LayoutView",
      "align_content": null,
      "align_items": null,
      "align_self": null,
      "border": null,
      "bottom": null,
      "display": null,
      "flex": null,
      "flex_flow": null,
      "grid_area": null,
      "grid_auto_columns": null,
      "grid_auto_flow": null,
      "grid_auto_rows": null,
      "grid_column": null,
      "grid_gap": null,
      "grid_row": null,
      "grid_template_areas": null,
      "grid_template_columns": null,
      "grid_template_rows": null,
      "height": null,
      "justify_content": null,
      "justify_items": null,
      "left": null,
      "margin": null,
      "max_height": null,
      "max_width": null,
      "min_height": null,
      "min_width": null,
      "object_fit": null,
      "object_position": null,
      "order": null,
      "overflow": null,
      "overflow_x": null,
      "overflow_y": null,
      "padding": null,
      "right": null,
      "top": null,
      "visibility": null,
      "width": null
     }
    },
    "23736553aca14fa0864b3682b3f56c42": {
     "model_module": "@jupyter-widgets/base",
     "model_name": "LayoutModel",
     "state": {
      "_model_module": "@jupyter-widgets/base",
      "_model_module_version": "1.2.0",
      "_model_name": "LayoutModel",
      "_view_count": null,
      "_view_module": "@jupyter-widgets/base",
      "_view_module_version": "1.2.0",
      "_view_name": "LayoutView",
      "align_content": null,
      "align_items": null,
      "align_self": null,
      "border": null,
      "bottom": null,
      "display": null,
      "flex": null,
      "flex_flow": null,
      "grid_area": null,
      "grid_auto_columns": null,
      "grid_auto_flow": null,
      "grid_auto_rows": null,
      "grid_column": null,
      "grid_gap": null,
      "grid_row": null,
      "grid_template_areas": null,
      "grid_template_columns": null,
      "grid_template_rows": null,
      "height": null,
      "justify_content": null,
      "justify_items": null,
      "left": null,
      "margin": null,
      "max_height": null,
      "max_width": null,
      "min_height": null,
      "min_width": null,
      "object_fit": null,
      "object_position": null,
      "order": null,
      "overflow": null,
      "overflow_x": null,
      "overflow_y": null,
      "padding": null,
      "right": null,
      "top": null,
      "visibility": null,
      "width": null
     }
    },
    "26d9161ca2ee44b7a063e0bbcde3d503": {
     "model_module": "@jupyter-widgets/controls",
     "model_name": "IntProgressModel",
     "state": {
      "_dom_classes": [],
      "_model_module": "@jupyter-widgets/controls",
      "_model_module_version": "1.5.0",
      "_model_name": "IntProgressModel",
      "_view_count": null,
      "_view_module": "@jupyter-widgets/controls",
      "_view_module_version": "1.5.0",
      "_view_name": "ProgressView",
      "bar_style": "success",
      "description": "Evaluating: 100%",
      "description_tooltip": null,
      "layout": "IPY_MODEL_225103c585a14f6994457099bbbc491f",
      "max": 2500,
      "min": 0,
      "orientation": "horizontal",
      "style": "IPY_MODEL_f1d1e5e84fa847f38fa58cb2dba94048",
      "value": 2500
     }
    },
    "2d67d1b3d7c4463bbfda87f91b6166f2": {
     "model_module": "@jupyter-widgets/base",
     "model_name": "LayoutModel",
     "state": {
      "_model_module": "@jupyter-widgets/base",
      "_model_module_version": "1.2.0",
      "_model_name": "LayoutModel",
      "_view_count": null,
      "_view_module": "@jupyter-widgets/base",
      "_view_module_version": "1.2.0",
      "_view_name": "LayoutView",
      "align_content": null,
      "align_items": null,
      "align_self": null,
      "border": null,
      "bottom": null,
      "display": null,
      "flex": null,
      "flex_flow": null,
      "grid_area": null,
      "grid_auto_columns": null,
      "grid_auto_flow": null,
      "grid_auto_rows": null,
      "grid_column": null,
      "grid_gap": null,
      "grid_row": null,
      "grid_template_areas": null,
      "grid_template_columns": null,
      "grid_template_rows": null,
      "height": null,
      "justify_content": null,
      "justify_items": null,
      "left": null,
      "margin": null,
      "max_height": null,
      "max_width": null,
      "min_height": null,
      "min_width": null,
      "object_fit": null,
      "object_position": null,
      "order": null,
      "overflow": null,
      "overflow_x": null,
      "overflow_y": null,
      "padding": null,
      "right": null,
      "top": null,
      "visibility": null,
      "width": null
     }
    },
    "2eff33edaff748a1be9a3d76fe0a2218": {
     "model_module": "@jupyter-widgets/controls",
     "model_name": "HBoxModel",
     "state": {
      "_dom_classes": [],
      "_model_module": "@jupyter-widgets/controls",
      "_model_module_version": "1.5.0",
      "_model_name": "HBoxModel",
      "_view_count": null,
      "_view_module": "@jupyter-widgets/controls",
      "_view_module_version": "1.5.0",
      "_view_name": "HBoxView",
      "box_style": "",
      "children": [
       "IPY_MODEL_391e4c54d83b45bcb052a8673819faf8",
       "IPY_MODEL_5e8127e7acca4eb6bb0b6c13807d5447"
      ],
      "layout": "IPY_MODEL_aae1aeefaa834b6bae40ff153fd40a56"
     }
    },
    "2f0f5c57a25f449d9cb3b94e080bf64f": {
     "model_module": "@jupyter-widgets/base",
     "model_name": "LayoutModel",
     "state": {
      "_model_module": "@jupyter-widgets/base",
      "_model_module_version": "1.2.0",
      "_model_name": "LayoutModel",
      "_view_count": null,
      "_view_module": "@jupyter-widgets/base",
      "_view_module_version": "1.2.0",
      "_view_name": "LayoutView",
      "align_content": null,
      "align_items": null,
      "align_self": null,
      "border": null,
      "bottom": null,
      "display": null,
      "flex": null,
      "flex_flow": null,
      "grid_area": null,
      "grid_auto_columns": null,
      "grid_auto_flow": null,
      "grid_auto_rows": null,
      "grid_column": null,
      "grid_gap": null,
      "grid_row": null,
      "grid_template_areas": null,
      "grid_template_columns": null,
      "grid_template_rows": null,
      "height": null,
      "justify_content": null,
      "justify_items": null,
      "left": null,
      "margin": null,
      "max_height": null,
      "max_width": null,
      "min_height": null,
      "min_width": null,
      "object_fit": null,
      "object_position": null,
      "order": null,
      "overflow": null,
      "overflow_x": null,
      "overflow_y": null,
      "padding": null,
      "right": null,
      "top": null,
      "visibility": null,
      "width": null
     }
    },
    "3055d90e0e134f519630661ddc9dbfab": {
     "model_module": "@jupyter-widgets/controls",
     "model_name": "DescriptionStyleModel",
     "state": {
      "_model_module": "@jupyter-widgets/controls",
      "_model_module_version": "1.5.0",
      "_model_name": "DescriptionStyleModel",
      "_view_count": null,
      "_view_module": "@jupyter-widgets/base",
      "_view_module_version": "1.2.0",
      "_view_name": "StyleView",
      "description_width": ""
     }
    },
    "391e4c54d83b45bcb052a8673819faf8": {
     "model_module": "@jupyter-widgets/controls",
     "model_name": "IntProgressModel",
     "state": {
      "_dom_classes": [],
      "_model_module": "@jupyter-widgets/controls",
      "_model_module_version": "1.5.0",
      "_model_name": "IntProgressModel",
      "_view_count": null,
      "_view_module": "@jupyter-widgets/controls",
      "_view_module_version": "1.5.0",
      "_view_name": "ProgressView",
      "bar_style": "success",
      "description": "Downloading: 100%",
      "description_tooltip": null,
      "layout": "IPY_MODEL_605b9f7ae7944102b0dae34b7f7c5c1a",
      "max": 438869143,
      "min": 0,
      "orientation": "horizontal",
      "style": "IPY_MODEL_d5d63f7bc6bf460581de86399bf41f9b",
      "value": 438869143
     }
    },
    "4534880a503b4463bb75a18677432cca": {
     "model_module": "@jupyter-widgets/base",
     "model_name": "LayoutModel",
     "state": {
      "_model_module": "@jupyter-widgets/base",
      "_model_module_version": "1.2.0",
      "_model_name": "LayoutModel",
      "_view_count": null,
      "_view_module": "@jupyter-widgets/base",
      "_view_module_version": "1.2.0",
      "_view_name": "LayoutView",
      "align_content": null,
      "align_items": null,
      "align_self": null,
      "border": null,
      "bottom": null,
      "display": null,
      "flex": null,
      "flex_flow": null,
      "grid_area": null,
      "grid_auto_columns": null,
      "grid_auto_flow": null,
      "grid_auto_rows": null,
      "grid_column": null,
      "grid_gap": null,
      "grid_row": null,
      "grid_template_areas": null,
      "grid_template_columns": null,
      "grid_template_rows": null,
      "height": null,
      "justify_content": null,
      "justify_items": null,
      "left": null,
      "margin": null,
      "max_height": null,
      "max_width": null,
      "min_height": null,
      "min_width": null,
      "object_fit": null,
      "object_position": null,
      "order": null,
      "overflow": null,
      "overflow_x": null,
      "overflow_y": null,
      "padding": null,
      "right": null,
      "top": null,
      "visibility": null,
      "width": null
     }
    },
    "471e08d5b09e4e76ba17f697d51adcdc": {
     "model_module": "@jupyter-widgets/base",
     "model_name": "LayoutModel",
     "state": {
      "_model_module": "@jupyter-widgets/base",
      "_model_module_version": "1.2.0",
      "_model_name": "LayoutModel",
      "_view_count": null,
      "_view_module": "@jupyter-widgets/base",
      "_view_module_version": "1.2.0",
      "_view_name": "LayoutView",
      "align_content": null,
      "align_items": null,
      "align_self": null,
      "border": null,
      "bottom": null,
      "display": null,
      "flex": null,
      "flex_flow": null,
      "grid_area": null,
      "grid_auto_columns": null,
      "grid_auto_flow": null,
      "grid_auto_rows": null,
      "grid_column": null,
      "grid_gap": null,
      "grid_row": null,
      "grid_template_areas": null,
      "grid_template_columns": null,
      "grid_template_rows": null,
      "height": null,
      "justify_content": null,
      "justify_items": null,
      "left": null,
      "margin": null,
      "max_height": null,
      "max_width": null,
      "min_height": null,
      "min_width": null,
      "object_fit": null,
      "object_position": null,
      "order": null,
      "overflow": null,
      "overflow_x": null,
      "overflow_y": null,
      "padding": null,
      "right": null,
      "top": null,
      "visibility": null,
      "width": null
     }
    },
    "515ac9c25afe4ccabf4a010e385b9d68": {
     "model_module": "@jupyter-widgets/controls",
     "model_name": "DescriptionStyleModel",
     "state": {
      "_model_module": "@jupyter-widgets/controls",
      "_model_module_version": "1.5.0",
      "_model_name": "DescriptionStyleModel",
      "_view_count": null,
      "_view_module": "@jupyter-widgets/base",
      "_view_module_version": "1.2.0",
      "_view_name": "StyleView",
      "description_width": ""
     }
    },
    "54173c4418454c12b717042cdb94c0bd": {
     "model_module": "@jupyter-widgets/base",
     "model_name": "LayoutModel",
     "state": {
      "_model_module": "@jupyter-widgets/base",
      "_model_module_version": "1.2.0",
      "_model_name": "LayoutModel",
      "_view_count": null,
      "_view_module": "@jupyter-widgets/base",
      "_view_module_version": "1.2.0",
      "_view_name": "LayoutView",
      "align_content": null,
      "align_items": null,
      "align_self": null,
      "border": null,
      "bottom": null,
      "display": null,
      "flex": null,
      "flex_flow": null,
      "grid_area": null,
      "grid_auto_columns": null,
      "grid_auto_flow": null,
      "grid_auto_rows": null,
      "grid_column": null,
      "grid_gap": null,
      "grid_row": null,
      "grid_template_areas": null,
      "grid_template_columns": null,
      "grid_template_rows": null,
      "height": null,
      "justify_content": null,
      "justify_items": null,
      "left": null,
      "margin": null,
      "max_height": null,
      "max_width": null,
      "min_height": null,
      "min_width": null,
      "object_fit": null,
      "object_position": null,
      "order": null,
      "overflow": null,
      "overflow_x": null,
      "overflow_y": null,
      "padding": null,
      "right": null,
      "top": null,
      "visibility": null,
      "width": null
     }
    },
    "5c4d6db6de534131a951c4dcf6f943b3": {
     "model_module": "@jupyter-widgets/controls",
     "model_name": "HBoxModel",
     "state": {
      "_dom_classes": [],
      "_model_module": "@jupyter-widgets/controls",
      "_model_module_version": "1.5.0",
      "_model_name": "HBoxModel",
      "_view_count": null,
      "_view_module": "@jupyter-widgets/controls",
      "_view_module_version": "1.5.0",
      "_view_name": "HBoxView",
      "box_style": "",
      "children": [
       "IPY_MODEL_8da077a449bc4820abfc70d5e51172f4",
       "IPY_MODEL_817a207fa47a4b05ae4211c46f96104f"
      ],
      "layout": "IPY_MODEL_54173c4418454c12b717042cdb94c0bd"
     }
    },
    "5dbe66d049ef40edbb6ebf457db578d1": {
     "model_module": "@jupyter-widgets/controls",
     "model_name": "ProgressStyleModel",
     "state": {
      "_model_module": "@jupyter-widgets/controls",
      "_model_module_version": "1.5.0",
      "_model_name": "ProgressStyleModel",
      "_view_count": null,
      "_view_module": "@jupyter-widgets/base",
      "_view_module_version": "1.2.0",
      "_view_name": "StyleView",
      "bar_color": null,
      "description_width": "initial"
     }
    },
    "5e8127e7acca4eb6bb0b6c13807d5447": {
     "model_module": "@jupyter-widgets/controls",
     "model_name": "HTMLModel",
     "state": {
      "_dom_classes": [],
      "_model_module": "@jupyter-widgets/controls",
      "_model_module_version": "1.5.0",
      "_model_name": "HTMLModel",
      "_view_count": null,
      "_view_module": "@jupyter-widgets/controls",
      "_view_module_version": "1.5.0",
      "_view_name": "HTMLView",
      "description": "",
      "description_tooltip": null,
      "layout": "IPY_MODEL_fb338f9ec2b94bdeaabfdfca9da0b570",
      "placeholder": "​",
      "style": "IPY_MODEL_515ac9c25afe4ccabf4a010e385b9d68",
      "value": " 439M/439M [00:14&lt;00:00, 30.8MB/s]"
     }
    },
    "5edf41b0e2334a838d14d3673cf4861a": {
     "model_module": "@jupyter-widgets/controls",
     "model_name": "IntProgressModel",
     "state": {
      "_dom_classes": [],
      "_model_module": "@jupyter-widgets/controls",
      "_model_module_version": "1.5.0",
      "_model_name": "IntProgressModel",
      "_view_count": null,
      "_view_module": "@jupyter-widgets/controls",
      "_view_module_version": "1.5.0",
      "_view_name": "ProgressView",
      "bar_style": "success",
      "description": "Iteration: 100%",
      "description_tooltip": null,
      "layout": "IPY_MODEL_2d67d1b3d7c4463bbfda87f91b6166f2",
      "max": 20000,
      "min": 0,
      "orientation": "horizontal",
      "style": "IPY_MODEL_b24b9473de23429e9532702a35334caa",
      "value": 20000
     }
    },
    "605b9f7ae7944102b0dae34b7f7c5c1a": {
     "model_module": "@jupyter-widgets/base",
     "model_name": "LayoutModel",
     "state": {
      "_model_module": "@jupyter-widgets/base",
      "_model_module_version": "1.2.0",
      "_model_name": "LayoutModel",
      "_view_count": null,
      "_view_module": "@jupyter-widgets/base",
      "_view_module_version": "1.2.0",
      "_view_name": "LayoutView",
      "align_content": null,
      "align_items": null,
      "align_self": null,
      "border": null,
      "bottom": null,
      "display": null,
      "flex": null,
      "flex_flow": null,
      "grid_area": null,
      "grid_auto_columns": null,
      "grid_auto_flow": null,
      "grid_auto_rows": null,
      "grid_column": null,
      "grid_gap": null,
      "grid_row": null,
      "grid_template_areas": null,
      "grid_template_columns": null,
      "grid_template_rows": null,
      "height": null,
      "justify_content": null,
      "justify_items": null,
      "left": null,
      "margin": null,
      "max_height": null,
      "max_width": null,
      "min_height": null,
      "min_width": null,
      "object_fit": null,
      "object_position": null,
      "order": null,
      "overflow": null,
      "overflow_x": null,
      "overflow_y": null,
      "padding": null,
      "right": null,
      "top": null,
      "visibility": null,
      "width": null
     }
    },
    "6081f32e08334e989324e6d5a56ce684": {
     "model_module": "@jupyter-widgets/controls",
     "model_name": "DescriptionStyleModel",
     "state": {
      "_model_module": "@jupyter-widgets/controls",
      "_model_module_version": "1.5.0",
      "_model_name": "DescriptionStyleModel",
      "_view_count": null,
      "_view_module": "@jupyter-widgets/base",
      "_view_module_version": "1.2.0",
      "_view_name": "StyleView",
      "description_width": ""
     }
    },
    "66268303e1994cdc840f31571ed50189": {
     "model_module": "@jupyter-widgets/base",
     "model_name": "LayoutModel",
     "state": {
      "_model_module": "@jupyter-widgets/base",
      "_model_module_version": "1.2.0",
      "_model_name": "LayoutModel",
      "_view_count": null,
      "_view_module": "@jupyter-widgets/base",
      "_view_module_version": "1.2.0",
      "_view_name": "LayoutView",
      "align_content": null,
      "align_items": null,
      "align_self": null,
      "border": null,
      "bottom": null,
      "display": null,
      "flex": null,
      "flex_flow": null,
      "grid_area": null,
      "grid_auto_columns": null,
      "grid_auto_flow": null,
      "grid_auto_rows": null,
      "grid_column": null,
      "grid_gap": null,
      "grid_row": null,
      "grid_template_areas": null,
      "grid_template_columns": null,
      "grid_template_rows": null,
      "height": null,
      "justify_content": null,
      "justify_items": null,
      "left": null,
      "margin": null,
      "max_height": null,
      "max_width": null,
      "min_height": null,
      "min_width": null,
      "object_fit": null,
      "object_position": null,
      "order": null,
      "overflow": null,
      "overflow_x": null,
      "overflow_y": null,
      "padding": null,
      "right": null,
      "top": null,
      "visibility": null,
      "width": null
     }
    },
    "784f74209a8d4d53a117cec10c409170": {
     "model_module": "@jupyter-widgets/controls",
     "model_name": "ProgressStyleModel",
     "state": {
      "_model_module": "@jupyter-widgets/controls",
      "_model_module_version": "1.5.0",
      "_model_name": "ProgressStyleModel",
      "_view_count": null,
      "_view_module": "@jupyter-widgets/base",
      "_view_module_version": "1.2.0",
      "_view_name": "StyleView",
      "bar_color": null,
      "description_width": "initial"
     }
    },
    "7f143ad4dd6a406194b7c929dcc618d2": {
     "model_module": "@jupyter-widgets/base",
     "model_name": "LayoutModel",
     "state": {
      "_model_module": "@jupyter-widgets/base",
      "_model_module_version": "1.2.0",
      "_model_name": "LayoutModel",
      "_view_count": null,
      "_view_module": "@jupyter-widgets/base",
      "_view_module_version": "1.2.0",
      "_view_name": "LayoutView",
      "align_content": null,
      "align_items": null,
      "align_self": null,
      "border": null,
      "bottom": null,
      "display": null,
      "flex": null,
      "flex_flow": null,
      "grid_area": null,
      "grid_auto_columns": null,
      "grid_auto_flow": null,
      "grid_auto_rows": null,
      "grid_column": null,
      "grid_gap": null,
      "grid_row": null,
      "grid_template_areas": null,
      "grid_template_columns": null,
      "grid_template_rows": null,
      "height": null,
      "justify_content": null,
      "justify_items": null,
      "left": null,
      "margin": null,
      "max_height": null,
      "max_width": null,
      "min_height": null,
      "min_width": null,
      "object_fit": null,
      "object_position": null,
      "order": null,
      "overflow": null,
      "overflow_x": null,
      "overflow_y": null,
      "padding": null,
      "right": null,
      "top": null,
      "visibility": null,
      "width": null
     }
    },
    "817a207fa47a4b05ae4211c46f96104f": {
     "model_module": "@jupyter-widgets/controls",
     "model_name": "HTMLModel",
     "state": {
      "_dom_classes": [],
      "_model_module": "@jupyter-widgets/controls",
      "_model_module_version": "1.5.0",
      "_model_name": "HTMLModel",
      "_view_count": null,
      "_view_module": "@jupyter-widgets/controls",
      "_view_module_version": "1.5.0",
      "_view_name": "HTMLView",
      "description": "",
      "description_tooltip": null,
      "layout": "IPY_MODEL_2f0f5c57a25f449d9cb3b94e080bf64f",
      "placeholder": "​",
      "style": "IPY_MODEL_b6a40fc3404747c98e22f0b26a507ddd",
      "value": " 2500/2500 [00:30&lt;00:00, 82.10it/s]"
     }
    },
    "8463b6797c184fc4aa9ebc2675c2290c": {
     "model_module": "@jupyter-widgets/base",
     "model_name": "LayoutModel",
     "state": {
      "_model_module": "@jupyter-widgets/base",
      "_model_module_version": "1.2.0",
      "_model_name": "LayoutModel",
      "_view_count": null,
      "_view_module": "@jupyter-widgets/base",
      "_view_module_version": "1.2.0",
      "_view_name": "LayoutView",
      "align_content": null,
      "align_items": null,
      "align_self": null,
      "border": null,
      "bottom": null,
      "display": null,
      "flex": null,
      "flex_flow": null,
      "grid_area": null,
      "grid_auto_columns": null,
      "grid_auto_flow": null,
      "grid_auto_rows": null,
      "grid_column": null,
      "grid_gap": null,
      "grid_row": null,
      "grid_template_areas": null,
      "grid_template_columns": null,
      "grid_template_rows": null,
      "height": null,
      "justify_content": null,
      "justify_items": null,
      "left": null,
      "margin": null,
      "max_height": null,
      "max_width": null,
      "min_height": null,
      "min_width": null,
      "object_fit": null,
      "object_position": null,
      "order": null,
      "overflow": null,
      "overflow_x": null,
      "overflow_y": null,
      "padding": null,
      "right": null,
      "top": null,
      "visibility": null,
      "width": null
     }
    },
    "865f3559afdc46d0914fafac3c155b04": {
     "model_module": "@jupyter-widgets/controls",
     "model_name": "HBoxModel",
     "state": {
      "_dom_classes": [],
      "_model_module": "@jupyter-widgets/controls",
      "_model_module_version": "1.5.0",
      "_model_name": "HBoxModel",
      "_view_count": null,
      "_view_module": "@jupyter-widgets/controls",
      "_view_module_version": "1.5.0",
      "_view_name": "HBoxView",
      "box_style": "",
      "children": [
       "IPY_MODEL_26d9161ca2ee44b7a063e0bbcde3d503",
       "IPY_MODEL_03b7215e812548ba9d7e05bf7a69d0e0"
      ],
      "layout": "IPY_MODEL_66268303e1994cdc840f31571ed50189"
     }
    },
    "8da077a449bc4820abfc70d5e51172f4": {
     "model_module": "@jupyter-widgets/controls",
     "model_name": "IntProgressModel",
     "state": {
      "_dom_classes": [],
      "_model_module": "@jupyter-widgets/controls",
      "_model_module_version": "1.5.0",
      "_model_name": "IntProgressModel",
      "_view_count": null,
      "_view_module": "@jupyter-widgets/controls",
      "_view_module_version": "1.5.0",
      "_view_name": "ProgressView",
      "bar_style": "success",
      "description": "Evaluating: 100%",
      "description_tooltip": null,
      "layout": "IPY_MODEL_8463b6797c184fc4aa9ebc2675c2290c",
      "max": 2500,
      "min": 0,
      "orientation": "horizontal",
      "style": "IPY_MODEL_5dbe66d049ef40edbb6ebf457db578d1",
      "value": 2500
     }
    },
    "9089030d505d4aeeb91909660cd48560": {
     "model_module": "@jupyter-widgets/controls",
     "model_name": "HTMLModel",
     "state": {
      "_dom_classes": [],
      "_model_module": "@jupyter-widgets/controls",
      "_model_module_version": "1.5.0",
      "_model_name": "HTMLModel",
      "_view_count": null,
      "_view_module": "@jupyter-widgets/controls",
      "_view_module_version": "1.5.0",
      "_view_name": "HTMLView",
      "description": "",
      "description_tooltip": null,
      "layout": "IPY_MODEL_23736553aca14fa0864b3682b3f56c42",
      "placeholder": "​",
      "style": "IPY_MODEL_6081f32e08334e989324e6d5a56ce684",
      "value": " 20000/20000 [34:51&lt;00:00,  9.56it/s]"
     }
    },
    "9c2623076c0d4cb2b2865b76e209bb82": {
     "model_module": "@jupyter-widgets/base",
     "model_name": "LayoutModel",
     "state": {
      "_model_module": "@jupyter-widgets/base",
      "_model_module_version": "1.2.0",
      "_model_name": "LayoutModel",
      "_view_count": null,
      "_view_module": "@jupyter-widgets/base",
      "_view_module_version": "1.2.0",
      "_view_name": "LayoutView",
      "align_content": null,
      "align_items": null,
      "align_self": null,
      "border": null,
      "bottom": null,
      "display": null,
      "flex": null,
      "flex_flow": null,
      "grid_area": null,
      "grid_auto_columns": null,
      "grid_auto_flow": null,
      "grid_auto_rows": null,
      "grid_column": null,
      "grid_gap": null,
      "grid_row": null,
      "grid_template_areas": null,
      "grid_template_columns": null,
      "grid_template_rows": null,
      "height": null,
      "justify_content": null,
      "justify_items": null,
      "left": null,
      "margin": null,
      "max_height": null,
      "max_width": null,
      "min_height": null,
      "min_width": null,
      "object_fit": null,
      "object_position": null,
      "order": null,
      "overflow": null,
      "overflow_x": null,
      "overflow_y": null,
      "padding": null,
      "right": null,
      "top": null,
      "visibility": null,
      "width": null
     }
    },
    "a21ffb29aef1430c96bba301c42d9141": {
     "model_module": "@jupyter-widgets/controls",
     "model_name": "HTMLModel",
     "state": {
      "_dom_classes": [],
      "_model_module": "@jupyter-widgets/controls",
      "_model_module_version": "1.5.0",
      "_model_name": "HTMLModel",
      "_view_count": null,
      "_view_module": "@jupyter-widgets/controls",
      "_view_module_version": "1.5.0",
      "_view_name": "HTMLView",
      "description": "",
      "description_tooltip": null,
      "layout": "IPY_MODEL_4534880a503b4463bb75a18677432cca",
      "placeholder": "​",
      "style": "IPY_MODEL_e20b37c1edac4b418c90968c719bbac5",
      "value": " 241k/241k [00:00&lt;00:00, 868kB/s]"
     }
    },
    "aae1aeefaa834b6bae40ff153fd40a56": {
     "model_module": "@jupyter-widgets/base",
     "model_name": "LayoutModel",
     "state": {
      "_model_module": "@jupyter-widgets/base",
      "_model_module_version": "1.2.0",
      "_model_name": "LayoutModel",
      "_view_count": null,
      "_view_module": "@jupyter-widgets/base",
      "_view_module_version": "1.2.0",
      "_view_name": "LayoutView",
      "align_content": null,
      "align_items": null,
      "align_self": null,
      "border": null,
      "bottom": null,
      "display": null,
      "flex": null,
      "flex_flow": null,
      "grid_area": null,
      "grid_auto_columns": null,
      "grid_auto_flow": null,
      "grid_auto_rows": null,
      "grid_column": null,
      "grid_gap": null,
      "grid_row": null,
      "grid_template_areas": null,
      "grid_template_columns": null,
      "grid_template_rows": null,
      "height": null,
      "justify_content": null,
      "justify_items": null,
      "left": null,
      "margin": null,
      "max_height": null,
      "max_width": null,
      "min_height": null,
      "min_width": null,
      "object_fit": null,
      "object_position": null,
      "order": null,
      "overflow": null,
      "overflow_x": null,
      "overflow_y": null,
      "padding": null,
      "right": null,
      "top": null,
      "visibility": null,
      "width": null
     }
    },
    "b0ffac6ff37f4267909b78d89f81f42e": {
     "model_module": "@jupyter-widgets/controls",
     "model_name": "IntProgressModel",
     "state": {
      "_dom_classes": [],
      "_model_module": "@jupyter-widgets/controls",
      "_model_module_version": "1.5.0",
      "_model_name": "IntProgressModel",
      "_view_count": null,
      "_view_module": "@jupyter-widgets/controls",
      "_view_module_version": "1.5.0",
      "_view_name": "ProgressView",
      "bar_style": "success",
      "description": "Downloading: 100%",
      "description_tooltip": null,
      "layout": "IPY_MODEL_9c2623076c0d4cb2b2865b76e209bb82",
      "max": 241440,
      "min": 0,
      "orientation": "horizontal",
      "style": "IPY_MODEL_c2e485a9f1f146b292d83eec6216c898",
      "value": 241440
     }
    },
    "b1f03062c4a24dd18fa81ed98bf94c90": {
     "model_module": "@jupyter-widgets/base",
     "model_name": "LayoutModel",
     "state": {
      "_model_module": "@jupyter-widgets/base",
      "_model_module_version": "1.2.0",
      "_model_name": "LayoutModel",
      "_view_count": null,
      "_view_module": "@jupyter-widgets/base",
      "_view_module_version": "1.2.0",
      "_view_name": "LayoutView",
      "align_content": null,
      "align_items": null,
      "align_self": null,
      "border": null,
      "bottom": null,
      "display": null,
      "flex": null,
      "flex_flow": null,
      "grid_area": null,
      "grid_auto_columns": null,
      "grid_auto_flow": null,
      "grid_auto_rows": null,
      "grid_column": null,
      "grid_gap": null,
      "grid_row": null,
      "grid_template_areas": null,
      "grid_template_columns": null,
      "grid_template_rows": null,
      "height": null,
      "justify_content": null,
      "justify_items": null,
      "left": null,
      "margin": null,
      "max_height": null,
      "max_width": null,
      "min_height": null,
      "min_width": null,
      "object_fit": null,
      "object_position": null,
      "order": null,
      "overflow": null,
      "overflow_x": null,
      "overflow_y": null,
      "padding": null,
      "right": null,
      "top": null,
      "visibility": null,
      "width": null
     }
    },
    "b24b9473de23429e9532702a35334caa": {
     "model_module": "@jupyter-widgets/controls",
     "model_name": "ProgressStyleModel",
     "state": {
      "_model_module": "@jupyter-widgets/controls",
      "_model_module_version": "1.5.0",
      "_model_name": "ProgressStyleModel",
      "_view_count": null,
      "_view_module": "@jupyter-widgets/base",
      "_view_module_version": "1.2.0",
      "_view_name": "StyleView",
      "bar_color": null,
      "description_width": "initial"
     }
    },
    "b6a40fc3404747c98e22f0b26a507ddd": {
     "model_module": "@jupyter-widgets/controls",
     "model_name": "DescriptionStyleModel",
     "state": {
      "_model_module": "@jupyter-widgets/controls",
      "_model_module_version": "1.5.0",
      "_model_name": "DescriptionStyleModel",
      "_view_count": null,
      "_view_module": "@jupyter-widgets/base",
      "_view_module_version": "1.2.0",
      "_view_name": "StyleView",
      "description_width": ""
     }
    },
    "c2e485a9f1f146b292d83eec6216c898": {
     "model_module": "@jupyter-widgets/controls",
     "model_name": "ProgressStyleModel",
     "state": {
      "_model_module": "@jupyter-widgets/controls",
      "_model_module_version": "1.5.0",
      "_model_name": "ProgressStyleModel",
      "_view_count": null,
      "_view_module": "@jupyter-widgets/base",
      "_view_module_version": "1.2.0",
      "_view_name": "StyleView",
      "bar_color": null,
      "description_width": "initial"
     }
    },
    "d3eea2668b9f4234a8684c966a620141": {
     "model_module": "@jupyter-widgets/controls",
     "model_name": "IntProgressModel",
     "state": {
      "_dom_classes": [],
      "_model_module": "@jupyter-widgets/controls",
      "_model_module_version": "1.5.0",
      "_model_name": "IntProgressModel",
      "_view_count": null,
      "_view_module": "@jupyter-widgets/controls",
      "_view_module_version": "1.5.0",
      "_view_name": "ProgressView",
      "bar_style": "success",
      "description": "Downloading: 100%",
      "description_tooltip": null,
      "layout": "IPY_MODEL_dc2d8d80649b4cfaa7042e159ee7262a",
      "max": 433,
      "min": 0,
      "orientation": "horizontal",
      "style": "IPY_MODEL_784f74209a8d4d53a117cec10c409170",
      "value": 433
     }
    },
    "d5343d41b5bc4d72b771024cad0203ce": {
     "model_module": "@jupyter-widgets/controls",
     "model_name": "HBoxModel",
     "state": {
      "_dom_classes": [],
      "_model_module": "@jupyter-widgets/controls",
      "_model_module_version": "1.5.0",
      "_model_name": "HBoxModel",
      "_view_count": null,
      "_view_module": "@jupyter-widgets/controls",
      "_view_module_version": "1.5.0",
      "_view_name": "HBoxView",
      "box_style": "",
      "children": [
       "IPY_MODEL_b0ffac6ff37f4267909b78d89f81f42e",
       "IPY_MODEL_a21ffb29aef1430c96bba301c42d9141"
      ],
      "layout": "IPY_MODEL_7f143ad4dd6a406194b7c929dcc618d2"
     }
    },
    "d5d63f7bc6bf460581de86399bf41f9b": {
     "model_module": "@jupyter-widgets/controls",
     "model_name": "ProgressStyleModel",
     "state": {
      "_model_module": "@jupyter-widgets/controls",
      "_model_module_version": "1.5.0",
      "_model_name": "ProgressStyleModel",
      "_view_count": null,
      "_view_module": "@jupyter-widgets/base",
      "_view_module_version": "1.2.0",
      "_view_name": "StyleView",
      "bar_color": null,
      "description_width": "initial"
     }
    },
    "dc2d8d80649b4cfaa7042e159ee7262a": {
     "model_module": "@jupyter-widgets/base",
     "model_name": "LayoutModel",
     "state": {
      "_model_module": "@jupyter-widgets/base",
      "_model_module_version": "1.2.0",
      "_model_name": "LayoutModel",
      "_view_count": null,
      "_view_module": "@jupyter-widgets/base",
      "_view_module_version": "1.2.0",
      "_view_name": "LayoutView",
      "align_content": null,
      "align_items": null,
      "align_self": null,
      "border": null,
      "bottom": null,
      "display": null,
      "flex": null,
      "flex_flow": null,
      "grid_area": null,
      "grid_auto_columns": null,
      "grid_auto_flow": null,
      "grid_auto_rows": null,
      "grid_column": null,
      "grid_gap": null,
      "grid_row": null,
      "grid_template_areas": null,
      "grid_template_columns": null,
      "grid_template_rows": null,
      "height": null,
      "justify_content": null,
      "justify_items": null,
      "left": null,
      "margin": null,
      "max_height": null,
      "max_width": null,
      "min_height": null,
      "min_width": null,
      "object_fit": null,
      "object_position": null,
      "order": null,
      "overflow": null,
      "overflow_x": null,
      "overflow_y": null,
      "padding": null,
      "right": null,
      "top": null,
      "visibility": null,
      "width": null
     }
    },
    "e20b37c1edac4b418c90968c719bbac5": {
     "model_module": "@jupyter-widgets/controls",
     "model_name": "DescriptionStyleModel",
     "state": {
      "_model_module": "@jupyter-widgets/controls",
      "_model_module_version": "1.5.0",
      "_model_name": "DescriptionStyleModel",
      "_view_count": null,
      "_view_module": "@jupyter-widgets/base",
      "_view_module_version": "1.2.0",
      "_view_name": "StyleView",
      "description_width": ""
     }
    },
    "e96a60db086c46fea39a1d7a19eea2b6": {
     "model_module": "@jupyter-widgets/controls",
     "model_name": "HBoxModel",
     "state": {
      "_dom_classes": [],
      "_model_module": "@jupyter-widgets/controls",
      "_model_module_version": "1.5.0",
      "_model_name": "HBoxModel",
      "_view_count": null,
      "_view_module": "@jupyter-widgets/controls",
      "_view_module_version": "1.5.0",
      "_view_name": "HBoxView",
      "box_style": "",
      "children": [
       "IPY_MODEL_d3eea2668b9f4234a8684c966a620141",
       "IPY_MODEL_08a4a5384e9e413f8a426a4d28e8fef5"
      ],
      "layout": "IPY_MODEL_198e9ff7847b41a5a7975cd3945be351"
     }
    },
    "e9fdc4a247514d5fbed70448f2d452cd": {
     "model_module": "@jupyter-widgets/base",
     "model_name": "LayoutModel",
     "state": {
      "_model_module": "@jupyter-widgets/base",
      "_model_module_version": "1.2.0",
      "_model_name": "LayoutModel",
      "_view_count": null,
      "_view_module": "@jupyter-widgets/base",
      "_view_module_version": "1.2.0",
      "_view_name": "LayoutView",
      "align_content": null,
      "align_items": null,
      "align_self": null,
      "border": null,
      "bottom": null,
      "display": null,
      "flex": null,
      "flex_flow": null,
      "grid_area": null,
      "grid_auto_columns": null,
      "grid_auto_flow": null,
      "grid_auto_rows": null,
      "grid_column": null,
      "grid_gap": null,
      "grid_row": null,
      "grid_template_areas": null,
      "grid_template_columns": null,
      "grid_template_rows": null,
      "height": null,
      "justify_content": null,
      "justify_items": null,
      "left": null,
      "margin": null,
      "max_height": null,
      "max_width": null,
      "min_height": null,
      "min_width": null,
      "object_fit": null,
      "object_position": null,
      "order": null,
      "overflow": null,
      "overflow_x": null,
      "overflow_y": null,
      "padding": null,
      "right": null,
      "top": null,
      "visibility": null,
      "width": null
     }
    },
    "f1d1e5e84fa847f38fa58cb2dba94048": {
     "model_module": "@jupyter-widgets/controls",
     "model_name": "ProgressStyleModel",
     "state": {
      "_model_module": "@jupyter-widgets/controls",
      "_model_module_version": "1.5.0",
      "_model_name": "ProgressStyleModel",
      "_view_count": null,
      "_view_module": "@jupyter-widgets/base",
      "_view_module_version": "1.2.0",
      "_view_name": "StyleView",
      "bar_color": null,
      "description_width": "initial"
     }
    },
    "fb338f9ec2b94bdeaabfdfca9da0b570": {
     "model_module": "@jupyter-widgets/base",
     "model_name": "LayoutModel",
     "state": {
      "_model_module": "@jupyter-widgets/base",
      "_model_module_version": "1.2.0",
      "_model_name": "LayoutModel",
      "_view_count": null,
      "_view_module": "@jupyter-widgets/base",
      "_view_module_version": "1.2.0",
      "_view_name": "LayoutView",
      "align_content": null,
      "align_items": null,
      "align_self": null,
      "border": null,
      "bottom": null,
      "display": null,
      "flex": null,
      "flex_flow": null,
      "grid_area": null,
      "grid_auto_columns": null,
      "grid_auto_flow": null,
      "grid_auto_rows": null,
      "grid_column": null,
      "grid_gap": null,
      "grid_row": null,
      "grid_template_areas": null,
      "grid_template_columns": null,
      "grid_template_rows": null,
      "height": null,
      "justify_content": null,
      "justify_items": null,
      "left": null,
      "margin": null,
      "max_height": null,
      "max_width": null,
      "min_height": null,
      "min_width": null,
      "object_fit": null,
      "object_position": null,
      "order": null,
      "overflow": null,
      "overflow_x": null,
      "overflow_y": null,
      "padding": null,
      "right": null,
      "top": null,
      "visibility": null,
      "width": null
     }
    }
   }
  }
 },
 "nbformat": 4,
 "nbformat_minor": 4
}
